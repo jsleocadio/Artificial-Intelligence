{
  "nbformat": 4,
  "nbformat_minor": 0,
  "metadata": {
    "colab": {
      "provenance": [],
      "authorship_tag": "ABX9TyM7oBezSaIUUdstOJL6z6Vs",
      "include_colab_link": true
    },
    "kernelspec": {
      "name": "python3",
      "display_name": "Python 3"
    },
    "language_info": {
      "name": "python"
    }
  },
  "cells": [
    {
      "cell_type": "markdown",
      "metadata": {
        "id": "view-in-github",
        "colab_type": "text"
      },
      "source": [
        "<a href=\"https://colab.research.google.com/github/jsleocadio/Artificial-Intelligence/blob/main/Image_Classification_with_TensorFlow.ipynb\" target=\"_parent\"><img src=\"https://colab.research.google.com/assets/colab-badge.svg\" alt=\"Open In Colab\"/></a>"
      ]
    },
    {
      "cell_type": "markdown",
      "source": [
        "**Source:** [Towards Data Science](https://towardsdatascience.com/introduction-to-image-classification-with-tensorflow-part-1-381d0a373b8f)<br>\n",
        "**Author:** [Zolzaya Luvsandorj](https://zluvsand.github.io/)"
      ],
      "metadata": {
        "id": "hqVo5IGWr4Wo"
      }
    },
    {
      "cell_type": "markdown",
      "source": [
        "[Computer Vision is an area of Artificial Intelligence that enables machines to process visual data such as images and video into meaningful information. Image classification is one popular application of computer vision](https://www.ibm.com/au-en/topics/computer-vision#:~:text=Computer%20vision%20is%20a%20field,recommendations%20based%20on%20that%20information.). In this post, we will learn how to do a basic image classification in Python with TensorFlow, an open source deep learning library developed by Google.\n",
        "***"
      ],
      "metadata": {
        "id": "yQIzeCc_rePk"
      }
    },
    {
      "cell_type": "markdown",
      "source": [
        "📦 Data<br>\n",
        "We will use the MNIST dataset of handwritten digits, one of well-known introductory image datasets. [The data is available under the Creative Commons Attribution-Share Alike 3.0 licence.](https://keras.io/api/datasets/mnist/) We will load the necessary libraries and data:"
      ],
      "metadata": {
        "id": "ULFOkUeVrxPy"
      }
    },
    {
      "cell_type": "code",
      "execution_count": 1,
      "metadata": {
        "colab": {
          "base_uri": "https://localhost:8080/"
        },
        "id": "jhVtu7NxrZI9",
        "outputId": "a2de0181-4894-4868-ebe6-e027783918c4"
      },
      "outputs": [
        {
          "output_type": "stream",
          "name": "stdout",
          "text": [
            "Downloading data from https://storage.googleapis.com/tensorflow/tf-keras-datasets/mnist.npz\n",
            "11490434/11490434 [==============================] - 0s 0us/step\n",
            "========== Training data ==========\n",
            "Data shape: (50000, 28, 28)\n",
            "Label shape: (50000,)\n",
            "Unique labels: [0 1 2 3 4 5 6 7 8 9]\n",
            "\n",
            "========== Validation data ==========\n",
            "Data shape: (10000, 28, 28)\n",
            "Label shape: (10000,)\n",
            "Unique labels: [0 1 2 3 4 5 6 7 8 9]\n",
            "\n",
            "========== Test data ==========\n",
            "Data shape: (10000, 28, 28)\n",
            "Label shape: (10000,)\n",
            "Unique labels: [0 1 2 3 4 5 6 7 8 9]\n"
          ]
        }
      ],
      "source": [
        "import numpy as np\n",
        "import pandas as pd\n",
        "from sklearn.model_selection import train_test_split\n",
        "import tensorflow as tf\n",
        "from tensorflow.keras.datasets import mnist\n",
        "from tensorflow.keras import Sequential\n",
        "from tensorflow.keras.layers import (Flatten, Dense,  \n",
        "                                     Conv2D, MaxPooling2D)\n",
        "import matplotlib.pyplot as plt\n",
        "import seaborn as sns\n",
        "sns.set(style='darkgrid', context='talk')\n",
        "(train_data, train_labels), (test_data, test_labels) = mnist.load_data()\n",
        "train_data, valid_data, train_labels, valid_labels =  train_test_split(\n",
        "    train_data, train_labels, test_size=10000, random_state=42\n",
        ")\n",
        "print(\"========== Training data ==========\")\n",
        "print(f\"Data shape: {train_data.shape}\")\n",
        "print(f\"Label shape: {train_labels.shape}\")\n",
        "print(f\"Unique labels: {np.unique(train_labels)}\")\n",
        "print(\"\\n========== Validation data ==========\")\n",
        "print(f\"Data shape: {valid_data.shape}\")\n",
        "print(f\"Label shape: {valid_labels.shape}\")\n",
        "print(f\"Unique labels: {np.unique(valid_labels)}\")\n",
        "print(\"\\n========== Test data ==========\")\n",
        "print(f\"Data shape: {test_data.shape}\")\n",
        "print(f\"Label shape: {test_labels.shape}\")\n",
        "print(f\"Unique labels: {np.unique(test_labels)}\")"
      ]
    },
    {
      "cell_type": "markdown",
      "source": [
        "We have 50K training, 10K validation and 10K test 28-by-28-pixel images. As expected, there are 10 classes of digits. Let’s now check the class distribution for each partitioned datasets:"
      ],
      "metadata": {
        "id": "nLDK22REs7MK"
      }
    },
    {
      "cell_type": "code",
      "source": [
        "n_classes = len(np.unique(train_labels))\n",
        "(pd.concat([pd.Series(train_labels).value_counts(normalize=True)\n",
        "              .sort_index(),\n",
        "            pd.Series(valid_labels).value_counts(normalize=True)\n",
        "              .sort_index(),\n",
        "            pd.Series(test_labels).value_counts(normalize=True)\n",
        "              .sort_index()], \n",
        "           keys=['train', 'valid', 'test'], axis=1)\n",
        "   .style.background_gradient('YlGn', axis='index').format(\"{:.2%}\"))"
      ],
      "metadata": {
        "colab": {
          "base_uri": "https://localhost:8080/",
          "height": 363
        },
        "id": "runTBJLXs8cI",
        "outputId": "96264041-a827-4f78-e68b-7c4d0dc95d43"
      },
      "execution_count": 2,
      "outputs": [
        {
          "output_type": "execute_result",
          "data": {
            "text/plain": [
              "<pandas.io.formats.style.Styler at 0x7fd19363b750>"
            ],
            "text/html": [
              "<style type=\"text/css\">\n",
              "#T_7d0b5_row0_col0, #T_7d0b5_row6_col0, #T_7d0b5_row9_col0 {\n",
              "  background-color: #abdc8d;\n",
              "  color: #000000;\n",
              "}\n",
              "#T_7d0b5_row0_col1 {\n",
              "  background-color: #aedd8e;\n",
              "  color: #000000;\n",
              "}\n",
              "#T_7d0b5_row0_col2 {\n",
              "  background-color: #b2df90;\n",
              "  color: #000000;\n",
              "}\n",
              "#T_7d0b5_row1_col0, #T_7d0b5_row1_col1, #T_7d0b5_row1_col2 {\n",
              "  background-color: #004529;\n",
              "  color: #f1f1f1;\n",
              "}\n",
              "#T_7d0b5_row2_col0 {\n",
              "  background-color: #a1d889;\n",
              "  color: #000000;\n",
              "}\n",
              "#T_7d0b5_row2_col1 {\n",
              "  background-color: #95d385;\n",
              "  color: #000000;\n",
              "}\n",
              "#T_7d0b5_row2_col2 {\n",
              "  background-color: #56b568;\n",
              "  color: #f1f1f1;\n",
              "}\n",
              "#T_7d0b5_row3_col0 {\n",
              "  background-color: #62bb6e;\n",
              "  color: #f1f1f1;\n",
              "}\n",
              "#T_7d0b5_row3_col1 {\n",
              "  background-color: #86cc7f;\n",
              "  color: #000000;\n",
              "}\n",
              "#T_7d0b5_row3_col2 {\n",
              "  background-color: #7ec97b;\n",
              "  color: #000000;\n",
              "}\n",
              "#T_7d0b5_row4_col0 {\n",
              "  background-color: #c3e698;\n",
              "  color: #000000;\n",
              "}\n",
              "#T_7d0b5_row4_col1 {\n",
              "  background-color: #b6e192;\n",
              "  color: #000000;\n",
              "}\n",
              "#T_7d0b5_row4_col2 {\n",
              "  background-color: #afde8f;\n",
              "  color: #000000;\n",
              "}\n",
              "#T_7d0b5_row5_col0, #T_7d0b5_row5_col1, #T_7d0b5_row5_col2 {\n",
              "  background-color: #ffffe5;\n",
              "  color: #000000;\n",
              "}\n",
              "#T_7d0b5_row6_col1 {\n",
              "  background-color: #b3e091;\n",
              "  color: #000000;\n",
              "}\n",
              "#T_7d0b5_row6_col2 {\n",
              "  background-color: #d2eda0;\n",
              "  color: #000000;\n",
              "}\n",
              "#T_7d0b5_row7_col0 {\n",
              "  background-color: #47ae60;\n",
              "  color: #f1f1f1;\n",
              "}\n",
              "#T_7d0b5_row7_col1 {\n",
              "  background-color: #12763d;\n",
              "  color: #f1f1f1;\n",
              "}\n",
              "#T_7d0b5_row7_col2 {\n",
              "  background-color: #5db96b;\n",
              "  color: #f1f1f1;\n",
              "}\n",
              "#T_7d0b5_row8_col0 {\n",
              "  background-color: #c0e597;\n",
              "  color: #000000;\n",
              "}\n",
              "#T_7d0b5_row8_col1 {\n",
              "  background-color: #b8e293;\n",
              "  color: #000000;\n",
              "}\n",
              "#T_7d0b5_row8_col2 {\n",
              "  background-color: #bae394;\n",
              "  color: #000000;\n",
              "}\n",
              "#T_7d0b5_row9_col1 {\n",
              "  background-color: #6fc174;\n",
              "  color: #000000;\n",
              "}\n",
              "#T_7d0b5_row9_col2 {\n",
              "  background-color: #7fc97c;\n",
              "  color: #000000;\n",
              "}\n",
              "</style>\n",
              "<table id=\"T_7d0b5_\" class=\"dataframe\">\n",
              "  <thead>\n",
              "    <tr>\n",
              "      <th class=\"blank level0\" >&nbsp;</th>\n",
              "      <th class=\"col_heading level0 col0\" >train</th>\n",
              "      <th class=\"col_heading level0 col1\" >valid</th>\n",
              "      <th class=\"col_heading level0 col2\" >test</th>\n",
              "    </tr>\n",
              "  </thead>\n",
              "  <tbody>\n",
              "    <tr>\n",
              "      <th id=\"T_7d0b5_level0_row0\" class=\"row_heading level0 row0\" >0</th>\n",
              "      <td id=\"T_7d0b5_row0_col0\" class=\"data row0 col0\" >9.88%</td>\n",
              "      <td id=\"T_7d0b5_row0_col1\" class=\"data row0 col1\" >9.84%</td>\n",
              "      <td id=\"T_7d0b5_row0_col2\" class=\"data row0 col2\" >9.80%</td>\n",
              "    </tr>\n",
              "    <tr>\n",
              "      <th id=\"T_7d0b5_level0_row1\" class=\"row_heading level0 row1\" >1</th>\n",
              "      <td id=\"T_7d0b5_row1_col0\" class=\"data row1 col0\" >11.30%</td>\n",
              "      <td id=\"T_7d0b5_row1_col1\" class=\"data row1 col1\" >10.93%</td>\n",
              "      <td id=\"T_7d0b5_row1_col2\" class=\"data row1 col2\" >11.35%</td>\n",
              "    </tr>\n",
              "    <tr>\n",
              "      <th id=\"T_7d0b5_level0_row2\" class=\"row_heading level0 row2\" >2</th>\n",
              "      <td id=\"T_7d0b5_row2_col0\" class=\"data row2 col0\" >9.93%</td>\n",
              "      <td id=\"T_7d0b5_row2_col1\" class=\"data row2 col1\" >9.94%</td>\n",
              "      <td id=\"T_7d0b5_row2_col2\" class=\"data row2 col2\" >10.32%</td>\n",
              "    </tr>\n",
              "    <tr>\n",
              "      <th id=\"T_7d0b5_level0_row3\" class=\"row_heading level0 row3\" >3</th>\n",
              "      <td id=\"T_7d0b5_row3_col0\" class=\"data row3 col0\" >10.26%</td>\n",
              "      <td id=\"T_7d0b5_row3_col1\" class=\"data row3 col1\" >10.00%</td>\n",
              "      <td id=\"T_7d0b5_row3_col2\" class=\"data row3 col2\" >10.10%</td>\n",
              "    </tr>\n",
              "    <tr>\n",
              "      <th id=\"T_7d0b5_level0_row4\" class=\"row_heading level0 row4\" >4</th>\n",
              "      <td id=\"T_7d0b5_row4_col0\" class=\"data row4 col0\" >9.72%</td>\n",
              "      <td id=\"T_7d0b5_row4_col1\" class=\"data row4 col1\" >9.80%</td>\n",
              "      <td id=\"T_7d0b5_row4_col2\" class=\"data row4 col2\" >9.82%</td>\n",
              "    </tr>\n",
              "    <tr>\n",
              "      <th id=\"T_7d0b5_level0_row5\" class=\"row_heading level0 row5\" >5</th>\n",
              "      <td id=\"T_7d0b5_row5_col0\" class=\"data row5 col0\" >9.00%</td>\n",
              "      <td id=\"T_7d0b5_row5_col1\" class=\"data row5 col1\" >9.19%</td>\n",
              "      <td id=\"T_7d0b5_row5_col2\" class=\"data row5 col2\" >8.92%</td>\n",
              "    </tr>\n",
              "    <tr>\n",
              "      <th id=\"T_7d0b5_level0_row6\" class=\"row_heading level0 row6\" >6</th>\n",
              "      <td id=\"T_7d0b5_row6_col0\" class=\"data row6 col0\" >9.87%</td>\n",
              "      <td id=\"T_7d0b5_row6_col1\" class=\"data row6 col1\" >9.81%</td>\n",
              "      <td id=\"T_7d0b5_row6_col2\" class=\"data row6 col2\" >9.58%</td>\n",
              "    </tr>\n",
              "    <tr>\n",
              "      <th id=\"T_7d0b5_level0_row7\" class=\"row_heading level0 row7\" >7</th>\n",
              "      <td id=\"T_7d0b5_row7_col0\" class=\"data row7 col0\" >10.41%</td>\n",
              "      <td id=\"T_7d0b5_row7_col1\" class=\"data row7 col1\" >10.60%</td>\n",
              "      <td id=\"T_7d0b5_row7_col2\" class=\"data row7 col2\" >10.28%</td>\n",
              "    </tr>\n",
              "    <tr>\n",
              "      <th id=\"T_7d0b5_level0_row8\" class=\"row_heading level0 row8\" >8</th>\n",
              "      <td id=\"T_7d0b5_row8_col0\" class=\"data row8 col0\" >9.74%</td>\n",
              "      <td id=\"T_7d0b5_row8_col1\" class=\"data row8 col1\" >9.79%</td>\n",
              "      <td id=\"T_7d0b5_row8_col2\" class=\"data row8 col2\" >9.74%</td>\n",
              "    </tr>\n",
              "    <tr>\n",
              "      <th id=\"T_7d0b5_level0_row9\" class=\"row_heading level0 row9\" >9</th>\n",
              "      <td id=\"T_7d0b5_row9_col0\" class=\"data row9 col0\" >9.88%</td>\n",
              "      <td id=\"T_7d0b5_row9_col1\" class=\"data row9 col1\" >10.10%</td>\n",
              "      <td id=\"T_7d0b5_row9_col2\" class=\"data row9 col2\" >10.09%</td>\n",
              "    </tr>\n",
              "  </tbody>\n",
              "</table>\n"
            ]
          },
          "metadata": {},
          "execution_count": 2
        }
      ]
    },
    {
      "cell_type": "markdown",
      "source": [
        "The class distribution is quite balanced across datasets. If you want to learn how to prettify your pandas DataFrame like this, you may find [this post](https://towardsdatascience.com/prettifying-pandas-dataframes-75c1a1a6877d) useful.\n",
        "\n",
        "Before we start building image classification models, let’s explore the data by inspecting a few sample images:"
      ],
      "metadata": {
        "id": "8d4Q0IDFtIqm"
      }
    },
    {
      "cell_type": "code",
      "source": [
        "def inspect_sample_images(data, labels, title, n_rows=2, n_cols=3, \n",
        "                          seed=42):\n",
        "    np.random.seed(seed)\n",
        "    indices = np.random.choice(range(len(data)), n_rows*n_cols, \n",
        "                               replace=False)\n",
        "    plt.figure(figsize=(8,5))\n",
        "    for i, ind in enumerate(indices):\n",
        "        ax = plt.subplot(n_rows, n_cols, i+1)\n",
        "        plt.imshow(data[ind], cmap='binary')\n",
        "        plt.axis('off')\n",
        "        plt.title(f\"Label: {labels[ind]}\", fontsize=14)\n",
        "    plt.suptitle(title, fontsize=20)\n",
        "    plt.tight_layout();\n",
        "    \n",
        "inspect_sample_images(train_data, train_labels, 'Sample training images')"
      ],
      "metadata": {
        "colab": {
          "base_uri": "https://localhost:8080/",
          "height": 364
        },
        "id": "YteYY8kktQmy",
        "outputId": "2b974820-23e4-49bd-b48d-fed5355808db"
      },
      "execution_count": 3,
      "outputs": [
        {
          "output_type": "display_data",
          "data": {
            "text/plain": [
              "<Figure size 576x360 with 6 Axes>"
            ],
            "image/png": "[encoded data removed]"
          },
          "metadata": {}
        }
      ]
    },
    {
      "cell_type": "markdown",
      "source": [
        "We can see that the images reflect different handwriting."
      ],
      "metadata": {
        "id": "_e4n-Oa5tXLn"
      }
    },
    {
      "cell_type": "code",
      "source": [
        "inspect_sample_images(valid_data, valid_labels, 'Sample validation images')"
      ],
      "metadata": {
        "colab": {
          "base_uri": "https://localhost:8080/",
          "height": 364
        },
        "id": "lnCx2H75tX0m",
        "outputId": "d30e9215-dfa5-48d3-bf7e-99c530408896"
      },
      "execution_count": 4,
      "outputs": [
        {
          "output_type": "display_data",
          "data": {
            "text/plain": [
              "<Figure size 576x360 with 6 Axes>"
            ],
            "image/png": "[encoded data removed]"
          },
          "metadata": {}
        }
      ]
    },
    {
      "cell_type": "markdown",
      "source": [
        "Digit 8 at the bottom left is cut out slightly. Perhaps some images are possibly cropped."
      ],
      "metadata": {
        "id": "ZwXQt-NPthXJ"
      }
    },
    {
      "cell_type": "code",
      "source": [
        "inspect_sample_images(test_data, test_labels, 'Sample test images')"
      ],
      "metadata": {
        "colab": {
          "base_uri": "https://localhost:8080/",
          "height": 364
        },
        "id": "0eBpEg8fth8Q",
        "outputId": "fcc7a8e5-3e2a-48bf-b169-274ef8762573"
      },
      "execution_count": 5,
      "outputs": [
        {
          "output_type": "display_data",
          "data": {
            "text/plain": [
              "<Figure size 576x360 with 6 Axes>"
            ],
            "image/png": "[encoded data removed]"
          },
          "metadata": {}
        }
      ]
    },
    {
      "cell_type": "markdown",
      "source": [
        "There are a couple of 2s in this sample and they each have their own style.\n",
        "***"
      ],
      "metadata": {
        "id": "EL-mY-sztoJu"
      }
    },
    {
      "cell_type": "markdown",
      "source": [
        "🔨 Modelling<br>\n",
        "This is the exciting part! Since the model building process is very experimental and iterative, we will iteratively build a couple of models."
      ],
      "metadata": {
        "id": "RNdDbY_Gtz9A"
      }
    },
    {
      "cell_type": "markdown",
      "source": [
        "🔧 Model 0<br>\n",
        "Currently, the labels are in 1D array format. We need to one-hot-encode our labels like this:"
      ],
      "metadata": {
        "id": "MJkAGYnQt3Fw"
      }
    },
    {
      "cell_type": "markdown",
      "source": [
        "![image.png](data:image/png;base64,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)"
      ],
      "metadata": {
        "id": "VMZv_RUTt8Ja"
      }
    },
    {
      "cell_type": "markdown",
      "source": [
        "Now, let’s build our first simple neural network. We will set seed for reproducibility."
      ],
      "metadata": {
        "id": "GEXTKUIWt_3u"
      }
    },
    {
      "cell_type": "code",
      "source": [
        "train_labels_ohe = tf.one_hot(train_labels, 10)\n",
        "valid_labels_ohe = tf.one_hot(valid_labels, 10)\n",
        "test_labels_ohe = tf.one_hot(test_labels, 10)\n",
        "tf.random.set_seed(42)\n",
        "model_0 = Sequential([\n",
        "    Flatten(input_shape=(28, 28)),\n",
        "    Dense(16, activation=\"relu\"),\n",
        "    Dense(16, activation=\"relu\"),\n",
        "    Dense(n_classes, activation=\"softmax\")\n",
        "])\n",
        "model_0.compile(loss=\"categorical_crossentropy\", optimizer='Adam',\n",
        "                metrics=[\"accuracy\"])\n",
        "model_0.summary()"
      ],
      "metadata": {
        "colab": {
          "base_uri": "https://localhost:8080/"
        },
        "id": "BdLZsKGBuHqZ",
        "outputId": "278323ce-2e9a-4028-8926-55f3728a35e7"
      },
      "execution_count": 6,
      "outputs": [
        {
          "output_type": "stream",
          "name": "stdout",
          "text": [
            "Model: \"sequential\"\n",
            "_________________________________________________________________\n",
            " Layer (type)                Output Shape              Param #   \n",
            "=================================================================\n",
            " flatten (Flatten)           (None, 784)               0         \n",
            "                                                                 \n",
            " dense (Dense)               (None, 16)                12560     \n",
            "                                                                 \n",
            " dense_1 (Dense)             (None, 16)                272       \n",
            "                                                                 \n",
            " dense_2 (Dense)             (None, 10)                170       \n",
            "                                                                 \n",
            "=================================================================\n",
            "Total params: 13,002\n",
            "Trainable params: 13,002\n",
            "Non-trainable params: 0\n",
            "_________________________________________________________________\n"
          ]
        }
      ]
    },
    {
      "cell_type": "markdown",
      "source": [
        "Here we first defined the architecture of the neural network, then compiled it and printed its summary. Let’s look more closely.\n",
        "\n",
        "◼️ Defined the architecture of the neural network\n",
        "In the first layer (flatten), it flattens the images from (28, 28) 2D array to (784) 1D array. Then, we have two fully connected hidden layers (dense & dense_1). For these layers, we used ReLu activation function. This is followed by the output layer with softmax activation function (dense_2) that has the same number of units as the number of classes.\n",
        "\n",
        "◼ Compiled the model\n",
        "We used categorical_crossentropy loss function. This loss function and softmax activation function in the output layer allows us to get probabilities for each class since we are building a multi-class classification model. We have used Adam optimiser.\n",
        "\n",
        "◼ Printed the model summary\n",
        "Once compiled, we can see model’s layers as well as the number of parameters from the summary.\n",
        "\n",
        "Now, it’s time to train the network:"
      ],
      "metadata": {
        "id": "PMftBl7guG7o"
      }
    },
    {
      "cell_type": "code",
      "source": [
        "hist_0 = model_0.fit(train_data, train_labels_ohe, epochs=5, \n",
        "                     validation_data=(valid_data, valid_labels_ohe))"
      ],
      "metadata": {
        "colab": {
          "base_uri": "https://localhost:8080/"
        },
        "id": "_RxDVtnluc7G",
        "outputId": "702666df-563c-45a8-8307-141510187bd2"
      },
      "execution_count": 7,
      "outputs": [
        {
          "output_type": "stream",
          "name": "stdout",
          "text": [
            "Epoch 1/5\n",
            "1563/1563 [==============================] - 5s 2ms/step - loss: 2.2112 - accuracy: 0.3357 - val_loss: 1.2387 - val_accuracy: 0.5517\n",
            "Epoch 2/5\n",
            "1563/1563 [==============================] - 4s 2ms/step - loss: 1.0580 - accuracy: 0.5973 - val_loss: 0.9432 - val_accuracy: 0.6374\n",
            "Epoch 3/5\n",
            "1563/1563 [==============================] - 4s 2ms/step - loss: 0.8405 - accuracy: 0.6922 - val_loss: 0.7166 - val_accuracy: 0.7401\n",
            "Epoch 4/5\n",
            "1563/1563 [==============================] - 4s 2ms/step - loss: 0.6893 - accuracy: 0.7605 - val_loss: 0.6581 - val_accuracy: 0.7691\n",
            "Epoch 5/5\n",
            "1563/1563 [==============================] - 4s 2ms/step - loss: 0.6241 - accuracy: 0.7823 - val_loss: 0.5922 - val_accuracy: 0.7896\n"
          ]
        }
      ]
    },
    {
      "cell_type": "markdown",
      "source": [
        "We will do only 5 epochs for faster training. This means the network will go through the data 5 times. From the summary above, we see that the accuracy is improving with each epoch. Let’s visualise the accuracy over epochs:"
      ],
      "metadata": {
        "id": "xih1iisXuYjR"
      }
    },
    {
      "cell_type": "code",
      "source": [
        "def clean_history(hist):\n",
        "    epochs = len(hist.history['accuracy'])\n",
        "    df = pd.DataFrame(\n",
        "        {'epochs': np.tile(np.arange(epochs), 2),\n",
        "         'accuracy': hist.history['accuracy'] + \n",
        "                     hist.history['val_accuracy'], \n",
        "         'loss': hist.history['loss'] + \n",
        "                 hist.history['val_loss'], \n",
        "         'dataset': np.repeat(['train', 'valid'], epochs)}\n",
        "    )\n",
        "    return df\n",
        "sns.lineplot(data=clean_history(hist_0), x='epochs', y='accuracy', \n",
        "             hue='dataset');"
      ],
      "metadata": {
        "colab": {
          "base_uri": "https://localhost:8080/",
          "height": 302
        },
        "id": "TXUGyjauuwHN",
        "outputId": "d319db21-dcb7-4079-8e1c-08f6a0e6c568"
      },
      "execution_count": 10,
      "outputs": [
        {
          "output_type": "display_data",
          "data": {
            "text/plain": [
              "<Figure size 432x288 with 1 Axes>"
            ],
            "image/png": "[encoded data removed]"
          },
          "metadata": {}
        }
      ]
    },
    {
      "cell_type": "markdown",
      "source": [
        "We have created a function since this will be useful for evaluating subsequent models. We will continue to build functions for other evaluation methods. Let’s evaluate the model’s performance on unseen test data:"
      ],
      "metadata": {
        "id": "sry1dlAIvOYJ"
      }
    },
    {
      "cell_type": "code",
      "source": [
        "test_preds_0 = model_0.predict(test_data)\n",
        "test_classes_0 = test_preds_0.argmax(axis=1)\n",
        "test_metrics = pd.DataFrame(columns=['Test accuracy'])\n",
        "test_metrics.loc['model_0'] = np.mean(test_labels==test_classes_0)\n",
        "test_metrics"
      ],
      "metadata": {
        "colab": {
          "base_uri": "https://localhost:8080/",
          "height": 98
        },
        "id": "Snj85QgMvPTm",
        "outputId": "9b650a66-69d4-4eee-bd0a-82fbf8f9ad98"
      },
      "execution_count": 11,
      "outputs": [
        {
          "output_type": "stream",
          "name": "stdout",
          "text": [
            "313/313 [==============================] - 1s 1ms/step\n"
          ]
        },
        {
          "output_type": "execute_result",
          "data": {
            "text/plain": [
              "         Test accuracy\n",
              "model_0         0.7965"
            ],
            "text/html": [
              "\n",
              "  <div id=\"df-5841d41d-4343-464c-a8d8-94d50f1d0ee0\">\n",
              "    <div class=\"colab-df-container\">\n",
              "      <div>\n",
              "<style scoped>\n",
              "    .dataframe tbody tr th:only-of-type {\n",
              "        vertical-align: middle;\n",
              "    }\n",
              "\n",
              "    .dataframe tbody tr th {\n",
              "        vertical-align: top;\n",
              "    }\n",
              "\n",
              "    .dataframe thead th {\n",
              "        text-align: right;\n",
              "    }\n",
              "</style>\n",
              "<table border=\"1\" class=\"dataframe\">\n",
              "  <thead>\n",
              "    <tr style=\"text-align: right;\">\n",
              "      <th></th>\n",
              "      <th>Test accuracy</th>\n",
              "    </tr>\n",
              "  </thead>\n",
              "  <tbody>\n",
              "    <tr>\n",
              "      <th>model_0</th>\n",
              "      <td>0.7965</td>\n",
              "    </tr>\n",
              "  </tbody>\n",
              "</table>\n",
              "</div>\n",
              "      <button class=\"colab-df-convert\" onclick=\"convertToInteractive('df-5841d41d-4343-464c-a8d8-94d50f1d0ee0')\"\n",
              "              title=\"Convert this dataframe to an interactive table.\"\n",
              "              style=\"display:none;\">\n",
              "        \n",
              "  <svg xmlns=\"http://www.w3.org/2000/svg\" height=\"24px\"viewBox=\"0 0 24 24\"\n",
              "       width=\"24px\">\n",
              "    <path d=\"M0 0h24v24H0V0z\" fill=\"none\"/>\n",
              "    <path d=\"M18.56 5.44l.94 2.06.94-2.06 2.06-.94-2.06-.94-.94-2.06-.94 2.06-2.06.94zm-11 1L8.5 8.5l.94-2.06 2.06-.94-2.06-.94L8.5 2.5l-.94 2.06-2.06.94zm10 10l.94 2.06.94-2.06 2.06-.94-2.06-.94-.94-2.06-.94 2.06-2.06.94z\"/><path d=\"M17.41 7.96l-1.37-1.37c-.4-.4-.92-.59-1.43-.59-.52 0-1.04.2-1.43.59L10.3 9.45l-7.72 7.72c-.78.78-.78 2.05 0 2.83L4 21.41c.39.39.9.59 1.41.59.51 0 1.02-.2 1.41-.59l7.78-7.78 2.81-2.81c.8-.78.8-2.07 0-2.86zM5.41 20L4 18.59l7.72-7.72 1.47 1.35L5.41 20z\"/>\n",
              "  </svg>\n",
              "      </button>\n",
              "      \n",
              "  <style>\n",
              "    .colab-df-container {\n",
              "      display:flex;\n",
              "      flex-wrap:wrap;\n",
              "      gap: 12px;\n",
              "    }\n",
              "\n",
              "    .colab-df-convert {\n",
              "      background-color: #E8F0FE;\n",
              "      border: none;\n",
              "      border-radius: 50%;\n",
              "      cursor: pointer;\n",
              "      display: none;\n",
              "      fill: #1967D2;\n",
              "      height: 32px;\n",
              "      padding: 0 0 0 0;\n",
              "      width: 32px;\n",
              "    }\n",
              "\n",
              "    .colab-df-convert:hover {\n",
              "      background-color: #E2EBFA;\n",
              "      box-shadow: 0px 1px 2px rgba(60, 64, 67, 0.3), 0px 1px 3px 1px rgba(60, 64, 67, 0.15);\n",
              "      fill: #174EA6;\n",
              "    }\n",
              "\n",
              "    [theme=dark] .colab-df-convert {\n",
              "      background-color: #3B4455;\n",
              "      fill: #D2E3FC;\n",
              "    }\n",
              "\n",
              "    [theme=dark] .colab-df-convert:hover {\n",
              "      background-color: #434B5C;\n",
              "      box-shadow: 0px 1px 3px 1px rgba(0, 0, 0, 0.15);\n",
              "      filter: drop-shadow(0px 1px 2px rgba(0, 0, 0, 0.3));\n",
              "      fill: #FFFFFF;\n",
              "    }\n",
              "  </style>\n",
              "\n",
              "      <script>\n",
              "        const buttonEl =\n",
              "          document.querySelector('#df-5841d41d-4343-464c-a8d8-94d50f1d0ee0 button.colab-df-convert');\n",
              "        buttonEl.style.display =\n",
              "          google.colab.kernel.accessAllowed ? 'block' : 'none';\n",
              "\n",
              "        async function convertToInteractive(key) {\n",
              "          const element = document.querySelector('#df-5841d41d-4343-464c-a8d8-94d50f1d0ee0');\n",
              "          const dataTable =\n",
              "            await google.colab.kernel.invokeFunction('convertToInteractive',\n",
              "                                                     [key], {});\n",
              "          if (!dataTable) return;\n",
              "\n",
              "          const docLinkHtml = 'Like what you see? Visit the ' +\n",
              "            '<a target=\"_blank\" href=https://colab.research.google.com/notebooks/data_table.ipynb>data table notebook</a>'\n",
              "            + ' to learn more about interactive tables.';\n",
              "          element.innerHTML = '';\n",
              "          dataTable['output_type'] = 'display_data';\n",
              "          await google.colab.output.renderOutput(dataTable, element);\n",
              "          const docLink = document.createElement('div');\n",
              "          docLink.innerHTML = docLinkHtml;\n",
              "          element.appendChild(docLink);\n",
              "        }\n",
              "      </script>\n",
              "    </div>\n",
              "  </div>\n",
              "  "
            ]
          },
          "metadata": {},
          "execution_count": 11
        }
      ]
    },
    {
      "cell_type": "markdown",
      "source": [
        "Cool, we will add performance of subsequent models to this DataFrame so that we can see all at once. `test_preds_0` consists of (10000, 10) 2D array containing predicted probabilities by class for each record. We then assigned the class with the highest probability for each record and saved it into `test_classes_0`. Now, let’s look at confusion matrix:"
      ],
      "metadata": {
        "id": "QgQlHw0ZvYJG"
      }
    },
    {
      "cell_type": "code",
      "source": [
        "def show_confusion_matrix(labels, classes):\n",
        "    cm = (pd.crosstab(pd.Series(labels, name='actual'), \n",
        "                      pd.Series(classes, name='predicted'))\n",
        "            .style.background_gradient('binary'))\n",
        "    return cm\n",
        "show_confusion_matrix(test_labels, test_classes_0)"
      ],
      "metadata": {
        "colab": {
          "base_uri": "https://localhost:8080/",
          "height": 394
        },
        "id": "OtkJmemEvh2X",
        "outputId": "c3a24f98-d949-4972-b8e4-5e74058f09b1"
      },
      "execution_count": 12,
      "outputs": [
        {
          "output_type": "execute_result",
          "data": {
            "text/plain": [
              "<pandas.io.formats.style.Styler at 0x7fd117f93ed0>"
            ],
            "text/html": [
              "<style type=\"text/css\">\n",
              "#T_cb69d_row0_col0, #T_cb69d_row1_col1, #T_cb69d_row2_col2, #T_cb69d_row3_col3, #T_cb69d_row4_col4, #T_cb69d_row5_col5, #T_cb69d_row6_col6, #T_cb69d_row7_col7, #T_cb69d_row8_col8, #T_cb69d_row9_col9 {\n",
              "  background-color: #000000;\n",
              "  color: #f1f1f1;\n",
              "}\n",
              "#T_cb69d_row0_col1, #T_cb69d_row0_col3, #T_cb69d_row0_col4, #T_cb69d_row0_col5, #T_cb69d_row0_col9, #T_cb69d_row1_col0, #T_cb69d_row1_col2, #T_cb69d_row1_col3, #T_cb69d_row1_col4, #T_cb69d_row1_col5, #T_cb69d_row1_col6, #T_cb69d_row1_col7, #T_cb69d_row1_col9, #T_cb69d_row2_col1, #T_cb69d_row2_col3, #T_cb69d_row3_col1, #T_cb69d_row3_col4, #T_cb69d_row3_col6, #T_cb69d_row4_col0, #T_cb69d_row4_col1, #T_cb69d_row4_col3, #T_cb69d_row4_col5, #T_cb69d_row4_col8, #T_cb69d_row5_col1, #T_cb69d_row6_col1, #T_cb69d_row6_col2, #T_cb69d_row6_col3, #T_cb69d_row6_col7, #T_cb69d_row6_col9, #T_cb69d_row7_col1, #T_cb69d_row7_col3, #T_cb69d_row7_col5, #T_cb69d_row7_col6, #T_cb69d_row8_col3, #T_cb69d_row9_col0, #T_cb69d_row9_col1, #T_cb69d_row9_col2, #T_cb69d_row9_col6 {\n",
              "  background-color: #ffffff;\n",
              "  color: #000000;\n",
              "}\n",
              "#T_cb69d_row0_col2, #T_cb69d_row0_col7, #T_cb69d_row2_col9, #T_cb69d_row3_col0, #T_cb69d_row3_col7, #T_cb69d_row4_col2, #T_cb69d_row4_col7, #T_cb69d_row5_col9, #T_cb69d_row7_col0, #T_cb69d_row8_col1 {\n",
              "  background-color: #fefefe;\n",
              "  color: #000000;\n",
              "}\n",
              "#T_cb69d_row0_col6, #T_cb69d_row2_col0, #T_cb69d_row2_col7, #T_cb69d_row3_col8, #T_cb69d_row5_col4, #T_cb69d_row5_col6, #T_cb69d_row5_col7, #T_cb69d_row6_col4, #T_cb69d_row8_col0, #T_cb69d_row8_col4, #T_cb69d_row8_col7, #T_cb69d_row9_col3, #T_cb69d_row9_col5 {\n",
              "  background-color: #fdfdfd;\n",
              "  color: #000000;\n",
              "}\n",
              "#T_cb69d_row0_col8, #T_cb69d_row2_col5, #T_cb69d_row6_col0, #T_cb69d_row6_col5 {\n",
              "  background-color: #fbfbfb;\n",
              "  color: #000000;\n",
              "}\n",
              "#T_cb69d_row1_col8 {\n",
              "  background-color: #e2e2e2;\n",
              "  color: #000000;\n",
              "}\n",
              "#T_cb69d_row2_col4, #T_cb69d_row4_col6, #T_cb69d_row5_col0, #T_cb69d_row7_col4 {\n",
              "  background-color: #fcfcfc;\n",
              "  color: #000000;\n",
              "}\n",
              "#T_cb69d_row2_col6 {\n",
              "  background-color: #f2f2f2;\n",
              "  color: #000000;\n",
              "}\n",
              "#T_cb69d_row2_col8 {\n",
              "  background-color: #585858;\n",
              "  color: #f1f1f1;\n",
              "}\n",
              "#T_cb69d_row3_col2 {\n",
              "  background-color: #f4f4f4;\n",
              "  color: #000000;\n",
              "}\n",
              "#T_cb69d_row3_col5 {\n",
              "  background-color: #d2d2d2;\n",
              "  color: #000000;\n",
              "}\n",
              "#T_cb69d_row3_col9 {\n",
              "  background-color: #f8f8f8;\n",
              "  color: #000000;\n",
              "}\n",
              "#T_cb69d_row4_col9, #T_cb69d_row8_col5, #T_cb69d_row9_col8 {\n",
              "  background-color: #f6f6f6;\n",
              "  color: #000000;\n",
              "}\n",
              "#T_cb69d_row5_col2 {\n",
              "  background-color: #f3f3f3;\n",
              "  color: #000000;\n",
              "}\n",
              "#T_cb69d_row5_col3 {\n",
              "  background-color: #e9e9e9;\n",
              "  color: #000000;\n",
              "}\n",
              "#T_cb69d_row5_col8 {\n",
              "  background-color: #d9d9d9;\n",
              "  color: #000000;\n",
              "}\n",
              "#T_cb69d_row6_col8 {\n",
              "  background-color: #e0e0e0;\n",
              "  color: #000000;\n",
              "}\n",
              "#T_cb69d_row7_col2 {\n",
              "  background-color: #fafafa;\n",
              "  color: #000000;\n",
              "}\n",
              "#T_cb69d_row7_col8 {\n",
              "  background-color: #dedede;\n",
              "  color: #000000;\n",
              "}\n",
              "#T_cb69d_row7_col9 {\n",
              "  background-color: #cccccc;\n",
              "  color: #000000;\n",
              "}\n",
              "#T_cb69d_row8_col2 {\n",
              "  background-color: #262626;\n",
              "  color: #f1f1f1;\n",
              "}\n",
              "#T_cb69d_row8_col6 {\n",
              "  background-color: #f5f5f5;\n",
              "  color: #000000;\n",
              "}\n",
              "#T_cb69d_row8_col9 {\n",
              "  background-color: #f7f7f7;\n",
              "  color: #000000;\n",
              "}\n",
              "#T_cb69d_row9_col4 {\n",
              "  background-color: #ebebeb;\n",
              "  color: #000000;\n",
              "}\n",
              "#T_cb69d_row9_col7 {\n",
              "  background-color: #f9f9f9;\n",
              "  color: #000000;\n",
              "}\n",
              "</style>\n",
              "<table id=\"T_cb69d_\" class=\"dataframe\">\n",
              "  <thead>\n",
              "    <tr>\n",
              "      <th class=\"index_name level0\" >predicted</th>\n",
              "      <th class=\"col_heading level0 col0\" >0</th>\n",
              "      <th class=\"col_heading level0 col1\" >1</th>\n",
              "      <th class=\"col_heading level0 col2\" >2</th>\n",
              "      <th class=\"col_heading level0 col3\" >3</th>\n",
              "      <th class=\"col_heading level0 col4\" >4</th>\n",
              "      <th class=\"col_heading level0 col5\" >5</th>\n",
              "      <th class=\"col_heading level0 col6\" >6</th>\n",
              "      <th class=\"col_heading level0 col7\" >7</th>\n",
              "      <th class=\"col_heading level0 col8\" >8</th>\n",
              "      <th class=\"col_heading level0 col9\" >9</th>\n",
              "    </tr>\n",
              "    <tr>\n",
              "      <th class=\"index_name level0\" >actual</th>\n",
              "      <th class=\"blank col0\" >&nbsp;</th>\n",
              "      <th class=\"blank col1\" >&nbsp;</th>\n",
              "      <th class=\"blank col2\" >&nbsp;</th>\n",
              "      <th class=\"blank col3\" >&nbsp;</th>\n",
              "      <th class=\"blank col4\" >&nbsp;</th>\n",
              "      <th class=\"blank col5\" >&nbsp;</th>\n",
              "      <th class=\"blank col6\" >&nbsp;</th>\n",
              "      <th class=\"blank col7\" >&nbsp;</th>\n",
              "      <th class=\"blank col8\" >&nbsp;</th>\n",
              "      <th class=\"blank col9\" >&nbsp;</th>\n",
              "    </tr>\n",
              "  </thead>\n",
              "  <tbody>\n",
              "    <tr>\n",
              "      <th id=\"T_cb69d_level0_row0\" class=\"row_heading level0 row0\" >0</th>\n",
              "      <td id=\"T_cb69d_row0_col0\" class=\"data row0 col0\" >939</td>\n",
              "      <td id=\"T_cb69d_row0_col1\" class=\"data row0 col1\" >0</td>\n",
              "      <td id=\"T_cb69d_row0_col2\" class=\"data row0 col2\" >11</td>\n",
              "      <td id=\"T_cb69d_row0_col3\" class=\"data row0 col3\" >0</td>\n",
              "      <td id=\"T_cb69d_row0_col4\" class=\"data row0 col4\" >1</td>\n",
              "      <td id=\"T_cb69d_row0_col5\" class=\"data row0 col5\" >5</td>\n",
              "      <td id=\"T_cb69d_row0_col6\" class=\"data row0 col6\" >9</td>\n",
              "      <td id=\"T_cb69d_row0_col7\" class=\"data row0 col7\" >5</td>\n",
              "      <td id=\"T_cb69d_row0_col8\" class=\"data row0 col8\" >7</td>\n",
              "      <td id=\"T_cb69d_row0_col9\" class=\"data row0 col9\" >3</td>\n",
              "    </tr>\n",
              "    <tr>\n",
              "      <th id=\"T_cb69d_level0_row1\" class=\"row_heading level0 row1\" >1</th>\n",
              "      <td id=\"T_cb69d_row1_col0\" class=\"data row1 col0\" >0</td>\n",
              "      <td id=\"T_cb69d_row1_col1\" class=\"data row1 col1\" >1098</td>\n",
              "      <td id=\"T_cb69d_row1_col2\" class=\"data row1 col2\" >10</td>\n",
              "      <td id=\"T_cb69d_row1_col3\" class=\"data row1 col3\" >1</td>\n",
              "      <td id=\"T_cb69d_row1_col4\" class=\"data row1 col4\" >1</td>\n",
              "      <td id=\"T_cb69d_row1_col5\" class=\"data row1 col5\" >4</td>\n",
              "      <td id=\"T_cb69d_row1_col6\" class=\"data row1 col6\" >1</td>\n",
              "      <td id=\"T_cb69d_row1_col7\" class=\"data row1 col7\" >0</td>\n",
              "      <td id=\"T_cb69d_row1_col8\" class=\"data row1 col8\" >18</td>\n",
              "      <td id=\"T_cb69d_row1_col9\" class=\"data row1 col9\" >2</td>\n",
              "    </tr>\n",
              "    <tr>\n",
              "      <th id=\"T_cb69d_level0_row2\" class=\"row_heading level0 row2\" >2</th>\n",
              "      <td id=\"T_cb69d_row2_col0\" class=\"data row2 col0\" >9</td>\n",
              "      <td id=\"T_cb69d_row2_col1\" class=\"data row2 col1\" >1</td>\n",
              "      <td id=\"T_cb69d_row2_col2\" class=\"data row2 col2\" >852</td>\n",
              "      <td id=\"T_cb69d_row2_col3\" class=\"data row2 col3\" >0</td>\n",
              "      <td id=\"T_cb69d_row2_col4\" class=\"data row2 col4\" >12</td>\n",
              "      <td id=\"T_cb69d_row2_col5\" class=\"data row2 col5\" >17</td>\n",
              "      <td id=\"T_cb69d_row2_col6\" class=\"data row2 col6\" >47</td>\n",
              "      <td id=\"T_cb69d_row2_col7\" class=\"data row2 col7\" >9</td>\n",
              "      <td id=\"T_cb69d_row2_col8\" class=\"data row2 col8\" >79</td>\n",
              "      <td id=\"T_cb69d_row2_col9\" class=\"data row2 col9\" >6</td>\n",
              "    </tr>\n",
              "    <tr>\n",
              "      <th id=\"T_cb69d_level0_row3\" class=\"row_heading level0 row3\" >3</th>\n",
              "      <td id=\"T_cb69d_row3_col0\" class=\"data row3 col0\" >6</td>\n",
              "      <td id=\"T_cb69d_row3_col1\" class=\"data row3 col1\" >0</td>\n",
              "      <td id=\"T_cb69d_row3_col2\" class=\"data row3 col2\" >45</td>\n",
              "      <td id=\"T_cb69d_row3_col3\" class=\"data row3 col3\" >791</td>\n",
              "      <td id=\"T_cb69d_row3_col4\" class=\"data row3 col4\" >1</td>\n",
              "      <td id=\"T_cb69d_row3_col5\" class=\"data row3 col5\" >129</td>\n",
              "      <td id=\"T_cb69d_row3_col6\" class=\"data row3 col6\" >2</td>\n",
              "      <td id=\"T_cb69d_row3_col7\" class=\"data row3 col7\" >5</td>\n",
              "      <td id=\"T_cb69d_row3_col8\" class=\"data row3 col8\" >6</td>\n",
              "      <td id=\"T_cb69d_row3_col9\" class=\"data row3 col9\" >25</td>\n",
              "    </tr>\n",
              "    <tr>\n",
              "      <th id=\"T_cb69d_level0_row4\" class=\"row_heading level0 row4\" >4</th>\n",
              "      <td id=\"T_cb69d_row4_col0\" class=\"data row4 col0\" >0</td>\n",
              "      <td id=\"T_cb69d_row4_col1\" class=\"data row4 col1\" >0</td>\n",
              "      <td id=\"T_cb69d_row4_col2\" class=\"data row4 col2\" >11</td>\n",
              "      <td id=\"T_cb69d_row4_col3\" class=\"data row4 col3\" >0</td>\n",
              "      <td id=\"T_cb69d_row4_col4\" class=\"data row4 col4\" >911</td>\n",
              "      <td id=\"T_cb69d_row4_col5\" class=\"data row4 col5\" >4</td>\n",
              "      <td id=\"T_cb69d_row4_col6\" class=\"data row4 col6\" >11</td>\n",
              "      <td id=\"T_cb69d_row4_col7\" class=\"data row4 col7\" >6</td>\n",
              "      <td id=\"T_cb69d_row4_col8\" class=\"data row4 col8\" >5</td>\n",
              "      <td id=\"T_cb69d_row4_col9\" class=\"data row4 col9\" >34</td>\n",
              "    </tr>\n",
              "    <tr>\n",
              "      <th id=\"T_cb69d_level0_row5\" class=\"row_heading level0 row5\" >5</th>\n",
              "      <td id=\"T_cb69d_row5_col0\" class=\"data row5 col0\" >12</td>\n",
              "      <td id=\"T_cb69d_row5_col1\" class=\"data row5 col1\" >1</td>\n",
              "      <td id=\"T_cb69d_row5_col2\" class=\"data row5 col2\" >47</td>\n",
              "      <td id=\"T_cb69d_row5_col3\" class=\"data row5 col3\" >70</td>\n",
              "      <td id=\"T_cb69d_row5_col4\" class=\"data row5 col4\" >9</td>\n",
              "      <td id=\"T_cb69d_row5_col5\" class=\"data row5 col5\" >710</td>\n",
              "      <td id=\"T_cb69d_row5_col6\" class=\"data row5 col6\" >9</td>\n",
              "      <td id=\"T_cb69d_row5_col7\" class=\"data row5 col7\" >7</td>\n",
              "      <td id=\"T_cb69d_row5_col8\" class=\"data row5 col8\" >22</td>\n",
              "      <td id=\"T_cb69d_row5_col9\" class=\"data row5 col9\" >5</td>\n",
              "    </tr>\n",
              "    <tr>\n",
              "      <th id=\"T_cb69d_level0_row6\" class=\"row_heading level0 row6\" >6</th>\n",
              "      <td id=\"T_cb69d_row6_col0\" class=\"data row6 col0\" >15</td>\n",
              "      <td id=\"T_cb69d_row6_col1\" class=\"data row6 col1\" >1</td>\n",
              "      <td id=\"T_cb69d_row6_col2\" class=\"data row6 col2\" >7</td>\n",
              "      <td id=\"T_cb69d_row6_col3\" class=\"data row6 col3\" >0</td>\n",
              "      <td id=\"T_cb69d_row6_col4\" class=\"data row6 col4\" >9</td>\n",
              "      <td id=\"T_cb69d_row6_col5\" class=\"data row6 col5\" >16</td>\n",
              "      <td id=\"T_cb69d_row6_col6\" class=\"data row6 col6\" >891</td>\n",
              "      <td id=\"T_cb69d_row6_col7\" class=\"data row6 col7\" >0</td>\n",
              "      <td id=\"T_cb69d_row6_col8\" class=\"data row6 col8\" >19</td>\n",
              "      <td id=\"T_cb69d_row6_col9\" class=\"data row6 col9\" >0</td>\n",
              "    </tr>\n",
              "    <tr>\n",
              "      <th id=\"T_cb69d_level0_row7\" class=\"row_heading level0 row7\" >7</th>\n",
              "      <td id=\"T_cb69d_row7_col0\" class=\"data row7 col0\" >4</td>\n",
              "      <td id=\"T_cb69d_row7_col1\" class=\"data row7 col1\" >2</td>\n",
              "      <td id=\"T_cb69d_row7_col2\" class=\"data row7 col2\" >26</td>\n",
              "      <td id=\"T_cb69d_row7_col3\" class=\"data row7 col3\" >0</td>\n",
              "      <td id=\"T_cb69d_row7_col4\" class=\"data row7 col4\" >13</td>\n",
              "      <td id=\"T_cb69d_row7_col5\" class=\"data row7 col5\" >5</td>\n",
              "      <td id=\"T_cb69d_row7_col6\" class=\"data row7 col6\" >0</td>\n",
              "      <td id=\"T_cb69d_row7_col7\" class=\"data row7 col7\" >781</td>\n",
              "      <td id=\"T_cb69d_row7_col8\" class=\"data row7 col8\" >20</td>\n",
              "      <td id=\"T_cb69d_row7_col9\" class=\"data row7 col9\" >177</td>\n",
              "    </tr>\n",
              "    <tr>\n",
              "      <th id=\"T_cb69d_level0_row8\" class=\"row_heading level0 row8\" >8</th>\n",
              "      <td id=\"T_cb69d_row8_col0\" class=\"data row8 col0\" >8</td>\n",
              "      <td id=\"T_cb69d_row8_col1\" class=\"data row8 col1\" >8</td>\n",
              "      <td id=\"T_cb69d_row8_col2\" class=\"data row8 col2\" >726</td>\n",
              "      <td id=\"T_cb69d_row8_col3\" class=\"data row8 col3\" >0</td>\n",
              "      <td id=\"T_cb69d_row8_col4\" class=\"data row8 col4\" >10</td>\n",
              "      <td id=\"T_cb69d_row8_col5\" class=\"data row8 col5\" >31</td>\n",
              "      <td id=\"T_cb69d_row8_col6\" class=\"data row8 col6\" >35</td>\n",
              "      <td id=\"T_cb69d_row8_col7\" class=\"data row8 col7\" >9</td>\n",
              "      <td id=\"T_cb69d_row8_col8\" class=\"data row8 col8\" >118</td>\n",
              "      <td id=\"T_cb69d_row8_col9\" class=\"data row8 col9\" >29</td>\n",
              "    </tr>\n",
              "    <tr>\n",
              "      <th id=\"T_cb69d_level0_row9\" class=\"row_heading level0 row9\" >9</th>\n",
              "      <td id=\"T_cb69d_row9_col0\" class=\"data row9 col0\" >1</td>\n",
              "      <td id=\"T_cb69d_row9_col1\" class=\"data row9 col1\" >4</td>\n",
              "      <td id=\"T_cb69d_row9_col2\" class=\"data row9 col2\" >9</td>\n",
              "      <td id=\"T_cb69d_row9_col3\" class=\"data row9 col3\" >8</td>\n",
              "      <td id=\"T_cb69d_row9_col4\" class=\"data row9 col4\" >73</td>\n",
              "      <td id=\"T_cb69d_row9_col5\" class=\"data row9 col5\" >11</td>\n",
              "      <td id=\"T_cb69d_row9_col6\" class=\"data row9 col6\" >0</td>\n",
              "      <td id=\"T_cb69d_row9_col7\" class=\"data row9 col7\" >20</td>\n",
              "      <td id=\"T_cb69d_row9_col8\" class=\"data row9 col8\" >9</td>\n",
              "      <td id=\"T_cb69d_row9_col9\" class=\"data row9 col9\" >874</td>\n",
              "    </tr>\n",
              "  </tbody>\n",
              "</table>\n"
            ]
          },
          "metadata": {},
          "execution_count": 12
        }
      ]
    },
    {
      "cell_type": "markdown",
      "source": [
        "It’s great to see that the majority of the records are along the diagonal stretching from top left to bottom right. Interestingly, the current model mistakes 8s with 2s quite often.\n",
        "\n",
        "Let’s inspect a few example images with their predictions:"
      ],
      "metadata": {
        "id": "G-EFqwXDvtA4"
      }
    },
    {
      "cell_type": "code",
      "source": [
        "def inspect_sample_predictions(data, labels, preds, dataset='test', \n",
        "                               seed=42, n_rows=2, n_cols=3):\n",
        "    np.random.seed(seed)\n",
        "    indices = np.random.choice(range(len(data)), n_rows*n_cols, \n",
        "                               replace=False)\n",
        "    plt.figure(figsize=(8,5))\n",
        "    for i, ind in enumerate(indices):\n",
        "        ax = plt.subplot(n_rows, n_cols, i+1)\n",
        "        plt.imshow(data[ind], cmap='binary')\n",
        "        plt.axis('off')\n",
        "        proba = preds[ind].max()\n",
        "        pred = preds[ind].argmax()\n",
        "        if pred == labels[ind]:\n",
        "            colour = 'green'\n",
        "        else:\n",
        "            colour = 'red'\n",
        "        plt.title(f\"Prediction: {pred} ({proba:.1%})\", fontsize=14, \n",
        "                  color=colour)\n",
        "    plt.suptitle(f'Sample {dataset} images with prediction', \n",
        "                 fontsize=20)\n",
        "    plt.tight_layout();\n",
        "    \n",
        "inspect_sample_predictions(test_data, test_labels, test_preds_0)"
      ],
      "metadata": {
        "colab": {
          "base_uri": "https://localhost:8080/",
          "height": 364
        },
        "id": "Ln7-GUDqvtw7",
        "outputId": "0f729359-01b1-4457-f789-0ef60486d68c"
      },
      "execution_count": 13,
      "outputs": [
        {
          "output_type": "display_data",
          "data": {
            "text/plain": [
              "<Figure size 576x360 with 6 Axes>"
            ],
            "image/png": "[encoded data removed]"
          },
          "metadata": {}
        }
      ]
    },
    {
      "cell_type": "markdown",
      "source": [
        "We will now look at the most incorrect predictions (i.e. incorrect predictions with the highest probability):"
      ],
      "metadata": {
        "id": "4ZaHj6tDv6CK"
      }
    },
    {
      "cell_type": "code",
      "source": [
        "def see_most_incorrect(data, labels, preds, dataset='test', seed=42, \n",
        "                       n_rows=2, n_cols=3):\n",
        "    df = pd.DataFrame()\n",
        "    df['true_class'] = labels\n",
        "    df['pred_class'] = preds.argmax(axis=1)\n",
        "    df['proba'] = preds.max(axis=1)\n",
        "    \n",
        "    incorrect_df = df.query(\"true_class!=pred_class\")\\\n",
        "                     .nlargest(n_rows*n_cols, 'proba')\n",
        "    \n",
        "    plt.figure(figsize=(8,5))\n",
        "    for i, (ind, row) in enumerate(incorrect_df.iterrows()):\n",
        "        ax = plt.subplot(n_rows, n_cols, i+1)\n",
        "        plt.imshow(data[ind], cmap='binary')\n",
        "        plt.axis('off')\n",
        "        true = int(row['true_class'])\n",
        "        proba = row['proba']\n",
        "        pred = int(row['pred_class'])\n",
        "    \n",
        "        plt.title(f\"Actual: {true} \\nPrediction: {pred} ({proba:.1%})\", \n",
        "                  fontsize=14, color='red')\n",
        "    plt.suptitle(f'Most incorrect {dataset} images', fontsize=20)\n",
        "    plt.tight_layout();\n",
        "    \n",
        "see_most_incorrect(test_data, test_labels, test_preds_0)"
      ],
      "metadata": {
        "colab": {
          "base_uri": "https://localhost:8080/",
          "height": 364
        },
        "id": "9H84FoV5v6qX",
        "outputId": "d35aa74e-f229-4989-8594-414f2fab55a7"
      },
      "execution_count": 14,
      "outputs": [
        {
          "output_type": "display_data",
          "data": {
            "text/plain": [
              "<Figure size 576x360 with 6 Axes>"
            ],
            "image/png": "[encoded data removed]"
          },
          "metadata": {}
        }
      ]
    },
    {
      "cell_type": "markdown",
      "source": [
        "As we are rounding to one decimal when printing the probabilities, 100.0% here most likely represents probabilities like 99.95..% or 99.99..%. This gives us a glimpse of the kind of images that the model is confidently getting wrong. Even for humans, the first and last images are bit tricky to identify as 6.\n",
        "\n",
        "Let’s see if we can improve the model."
      ],
      "metadata": {
        "id": "gg7hovZ2wH7v"
      }
    },
    {
      "cell_type": "markdown",
      "source": [
        "🔧 Model 1<br>\n",
        "Neural networks tend to work well with data that’s squished between 0 and 1. So we will rescale the data to this range using the following formula:"
      ],
      "metadata": {
        "id": "YzDbCwr_xOIL"
      }
    },
    {
      "cell_type": "markdown",
      "source": [
        "$$x_{i\\_scaled} = \\frac{x_i - min(x)}{max(x) - min(x)}$$"
      ],
      "metadata": {
        "id": "9dgW6CzCxQdM"
      }
    },
    {
      "cell_type": "markdown",
      "source": [
        "Since the pixel values range between 0 (min) and 255 (max), we just need to divide values by 255 to scale. Besides rescaling, we will keep everything else the same as before. It’s good practice to change one thing at a time and understand its impact:"
      ],
      "metadata": {
        "id": "5yXzQ9ZNxpwT"
      }
    },
    {
      "cell_type": "code",
      "source": [
        "train_data_norm = train_data/255\n",
        "valid_data_norm = valid_data/255\n",
        "test_data_norm = test_data/255\n",
        "tf.random.set_seed(42)\n",
        "model_1 = Sequential([\n",
        "    Flatten(input_shape=(28, 28)),\n",
        "    Dense(16, activation=\"relu\"),\n",
        "    Dense(16, activation=\"relu\"),\n",
        "    Dense(n_classes, activation=\"softmax\")\n",
        "])\n",
        "model_1.compile(loss=\"categorical_crossentropy\", optimizer='Adam',\n",
        "               metrics=[\"accuracy\"])\n",
        "model_1.summary()"
      ],
      "metadata": {
        "colab": {
          "base_uri": "https://localhost:8080/"
        },
        "id": "roAbZM0zxq6Q",
        "outputId": "7e2841f5-0674-45b7-8a21-fd75999f973d"
      },
      "execution_count": 15,
      "outputs": [
        {
          "output_type": "stream",
          "name": "stdout",
          "text": [
            "Model: \"sequential_1\"\n",
            "_________________________________________________________________\n",
            " Layer (type)                Output Shape              Param #   \n",
            "=================================================================\n",
            " flatten_1 (Flatten)         (None, 784)               0         \n",
            "                                                                 \n",
            " dense_3 (Dense)             (None, 16)                12560     \n",
            "                                                                 \n",
            " dense_4 (Dense)             (None, 16)                272       \n",
            "                                                                 \n",
            " dense_5 (Dense)             (None, 10)                170       \n",
            "                                                                 \n",
            "=================================================================\n",
            "Total params: 13,002\n",
            "Trainable params: 13,002\n",
            "Non-trainable params: 0\n",
            "_________________________________________________________________\n"
          ]
        }
      ]
    },
    {
      "cell_type": "markdown",
      "source": [
        "Let’s train the compiled model on the rescaled data:"
      ],
      "metadata": {
        "id": "VqxRhlY_xx51"
      }
    },
    {
      "cell_type": "code",
      "source": [
        "hist_1 = model_1.fit(\n",
        "    train_data_norm, train_labels_ohe, epochs=5, \n",
        "    validation_data=(valid_data_norm, valid_labels_ohe)\n",
        ")"
      ],
      "metadata": {
        "colab": {
          "base_uri": "https://localhost:8080/"
        },
        "id": "-83hNxElxyfu",
        "outputId": "9f9ccedc-b618-4de2-972d-6b3b043020ec"
      },
      "execution_count": 16,
      "outputs": [
        {
          "output_type": "stream",
          "name": "stdout",
          "text": [
            "Epoch 1/5\n",
            "1563/1563 [==============================] - 5s 3ms/step - loss: 0.4550 - accuracy: 0.8657 - val_loss: 0.2854 - val_accuracy: 0.9153\n",
            "Epoch 2/5\n",
            "1563/1563 [==============================] - 4s 3ms/step - loss: 0.2501 - accuracy: 0.9277 - val_loss: 0.2343 - val_accuracy: 0.9315\n",
            "Epoch 3/5\n",
            "1563/1563 [==============================] - 4s 3ms/step - loss: 0.2163 - accuracy: 0.9379 - val_loss: 0.2056 - val_accuracy: 0.9407\n",
            "Epoch 4/5\n",
            "1563/1563 [==============================] - 4s 3ms/step - loss: 0.1924 - accuracy: 0.9447 - val_loss: 0.1976 - val_accuracy: 0.9387\n",
            "Epoch 5/5\n",
            "1563/1563 [==============================] - 9s 6ms/step - loss: 0.1756 - accuracy: 0.9483 - val_loss: 0.1927 - val_accuracy: 0.9427\n"
          ]
        }
      ]
    },
    {
      "cell_type": "markdown",
      "source": [
        "With a simple preprocessing step, the performance is much better than before! Now, let’s visualise the performance over epochs:"
      ],
      "metadata": {
        "id": "oOCeS6INyA5m"
      }
    },
    {
      "cell_type": "code",
      "source": [
        "sns.lineplot(data=clean_history(hist_1), x='epochs', y='accuracy', \n",
        "             hue='dataset');"
      ],
      "metadata": {
        "colab": {
          "base_uri": "https://localhost:8080/",
          "height": 301
        },
        "id": "9w1bNVriyDXx",
        "outputId": "7b394285-ce27-41b0-f681-3be44810cfe0"
      },
      "execution_count": 17,
      "outputs": [
        {
          "output_type": "display_data",
          "data": {
            "text/plain": [
              "<Figure size 432x288 with 1 Axes>"
            ],
            "image/png": "[encoded data removed]"
          },
          "metadata": {}
        }
      ]
    },
    {
      "cell_type": "markdown",
      "source": [
        "Time to evaluate the model on test data and add it to our `test_metrics` DataFrame."
      ],
      "metadata": {
        "id": "jLykWjbOyJlS"
      }
    },
    {
      "cell_type": "code",
      "source": [
        "test_preds_1 = model_1.predict(test_data_norm)\n",
        "test_classes_1 = test_preds_1.argmax(axis=1)\n",
        "test_metrics.loc['model_1'] = np.mean(test_labels==test_classes_1)\n",
        "test_metrics"
      ],
      "metadata": {
        "colab": {
          "base_uri": "https://localhost:8080/",
          "height": 129
        },
        "id": "yNVtligNyM56",
        "outputId": "372d169e-d718-468d-8d97-99bbe8b2f0be"
      },
      "execution_count": 18,
      "outputs": [
        {
          "output_type": "stream",
          "name": "stdout",
          "text": [
            "313/313 [==============================] - 1s 2ms/step\n"
          ]
        },
        {
          "output_type": "execute_result",
          "data": {
            "text/plain": [
              "         Test accuracy\n",
              "model_0         0.7965\n",
              "model_1         0.9471"
            ],
            "text/html": [
              "\n",
              "  <div id=\"df-298d12ec-a60a-4b76-8fcc-363e4334a976\">\n",
              "    <div class=\"colab-df-container\">\n",
              "      <div>\n",
              "<style scoped>\n",
              "    .dataframe tbody tr th:only-of-type {\n",
              "        vertical-align: middle;\n",
              "    }\n",
              "\n",
              "    .dataframe tbody tr th {\n",
              "        vertical-align: top;\n",
              "    }\n",
              "\n",
              "    .dataframe thead th {\n",
              "        text-align: right;\n",
              "    }\n",
              "</style>\n",
              "<table border=\"1\" class=\"dataframe\">\n",
              "  <thead>\n",
              "    <tr style=\"text-align: right;\">\n",
              "      <th></th>\n",
              "      <th>Test accuracy</th>\n",
              "    </tr>\n",
              "  </thead>\n",
              "  <tbody>\n",
              "    <tr>\n",
              "      <th>model_0</th>\n",
              "      <td>0.7965</td>\n",
              "    </tr>\n",
              "    <tr>\n",
              "      <th>model_1</th>\n",
              "      <td>0.9471</td>\n",
              "    </tr>\n",
              "  </tbody>\n",
              "</table>\n",
              "</div>\n",
              "      <button class=\"colab-df-convert\" onclick=\"convertToInteractive('df-298d12ec-a60a-4b76-8fcc-363e4334a976')\"\n",
              "              title=\"Convert this dataframe to an interactive table.\"\n",
              "              style=\"display:none;\">\n",
              "        \n",
              "  <svg xmlns=\"http://www.w3.org/2000/svg\" height=\"24px\"viewBox=\"0 0 24 24\"\n",
              "       width=\"24px\">\n",
              "    <path d=\"M0 0h24v24H0V0z\" fill=\"none\"/>\n",
              "    <path d=\"M18.56 5.44l.94 2.06.94-2.06 2.06-.94-2.06-.94-.94-2.06-.94 2.06-2.06.94zm-11 1L8.5 8.5l.94-2.06 2.06-.94-2.06-.94L8.5 2.5l-.94 2.06-2.06.94zm10 10l.94 2.06.94-2.06 2.06-.94-2.06-.94-.94-2.06-.94 2.06-2.06.94z\"/><path d=\"M17.41 7.96l-1.37-1.37c-.4-.4-.92-.59-1.43-.59-.52 0-1.04.2-1.43.59L10.3 9.45l-7.72 7.72c-.78.78-.78 2.05 0 2.83L4 21.41c.39.39.9.59 1.41.59.51 0 1.02-.2 1.41-.59l7.78-7.78 2.81-2.81c.8-.78.8-2.07 0-2.86zM5.41 20L4 18.59l7.72-7.72 1.47 1.35L5.41 20z\"/>\n",
              "  </svg>\n",
              "      </button>\n",
              "      \n",
              "  <style>\n",
              "    .colab-df-container {\n",
              "      display:flex;\n",
              "      flex-wrap:wrap;\n",
              "      gap: 12px;\n",
              "    }\n",
              "\n",
              "    .colab-df-convert {\n",
              "      background-color: #E8F0FE;\n",
              "      border: none;\n",
              "      border-radius: 50%;\n",
              "      cursor: pointer;\n",
              "      display: none;\n",
              "      fill: #1967D2;\n",
              "      height: 32px;\n",
              "      padding: 0 0 0 0;\n",
              "      width: 32px;\n",
              "    }\n",
              "\n",
              "    .colab-df-convert:hover {\n",
              "      background-color: #E2EBFA;\n",
              "      box-shadow: 0px 1px 2px rgba(60, 64, 67, 0.3), 0px 1px 3px 1px rgba(60, 64, 67, 0.15);\n",
              "      fill: #174EA6;\n",
              "    }\n",
              "\n",
              "    [theme=dark] .colab-df-convert {\n",
              "      background-color: #3B4455;\n",
              "      fill: #D2E3FC;\n",
              "    }\n",
              "\n",
              "    [theme=dark] .colab-df-convert:hover {\n",
              "      background-color: #434B5C;\n",
              "      box-shadow: 0px 1px 3px 1px rgba(0, 0, 0, 0.15);\n",
              "      filter: drop-shadow(0px 1px 2px rgba(0, 0, 0, 0.3));\n",
              "      fill: #FFFFFF;\n",
              "    }\n",
              "  </style>\n",
              "\n",
              "      <script>\n",
              "        const buttonEl =\n",
              "          document.querySelector('#df-298d12ec-a60a-4b76-8fcc-363e4334a976 button.colab-df-convert');\n",
              "        buttonEl.style.display =\n",
              "          google.colab.kernel.accessAllowed ? 'block' : 'none';\n",
              "\n",
              "        async function convertToInteractive(key) {\n",
              "          const element = document.querySelector('#df-298d12ec-a60a-4b76-8fcc-363e4334a976');\n",
              "          const dataTable =\n",
              "            await google.colab.kernel.invokeFunction('convertToInteractive',\n",
              "                                                     [key], {});\n",
              "          if (!dataTable) return;\n",
              "\n",
              "          const docLinkHtml = 'Like what you see? Visit the ' +\n",
              "            '<a target=\"_blank\" href=https://colab.research.google.com/notebooks/data_table.ipynb>data table notebook</a>'\n",
              "            + ' to learn more about interactive tables.';\n",
              "          element.innerHTML = '';\n",
              "          dataTable['output_type'] = 'display_data';\n",
              "          await google.colab.output.renderOutput(dataTable, element);\n",
              "          const docLink = document.createElement('div');\n",
              "          docLink.innerHTML = docLinkHtml;\n",
              "          element.appendChild(docLink);\n",
              "        }\n",
              "      </script>\n",
              "    </div>\n",
              "  </div>\n",
              "  "
            ]
          },
          "metadata": {},
          "execution_count": 18
        }
      ]
    },
    {
      "cell_type": "markdown",
      "source": [
        "We improved the model’s predictive power quite substantially with one simple change. Let’s look at performance more closely with a confusion matrix:"
      ],
      "metadata": {
        "id": "SC28c84zyYJQ"
      }
    },
    {
      "cell_type": "code",
      "source": [
        "show_confusion_matrix(test_labels, test_classes_1)"
      ],
      "metadata": {
        "colab": {
          "base_uri": "https://localhost:8080/",
          "height": 394
        },
        "id": "2DX9_uLHybQg",
        "outputId": "7b813cab-c64a-46f7-e472-02fe5cf71c00"
      },
      "execution_count": 19,
      "outputs": [
        {
          "output_type": "execute_result",
          "data": {
            "text/plain": [
              "<pandas.io.formats.style.Styler at 0x7fd11a778110>"
            ],
            "text/html": [
              "<style type=\"text/css\">\n",
              "#T_cc73d_row0_col0, #T_cc73d_row1_col1, #T_cc73d_row2_col2, #T_cc73d_row3_col3, #T_cc73d_row4_col4, #T_cc73d_row5_col5, #T_cc73d_row6_col6, #T_cc73d_row7_col7, #T_cc73d_row8_col8, #T_cc73d_row9_col9 {\n",
              "  background-color: #000000;\n",
              "  color: #f1f1f1;\n",
              "}\n",
              "#T_cc73d_row0_col1, #T_cc73d_row0_col2, #T_cc73d_row0_col3, #T_cc73d_row0_col4, #T_cc73d_row0_col5, #T_cc73d_row0_col6, #T_cc73d_row0_col7, #T_cc73d_row0_col8, #T_cc73d_row0_col9, #T_cc73d_row1_col0, #T_cc73d_row1_col3, #T_cc73d_row1_col4, #T_cc73d_row1_col5, #T_cc73d_row1_col6, #T_cc73d_row1_col7, #T_cc73d_row1_col9, #T_cc73d_row2_col1, #T_cc73d_row2_col5, #T_cc73d_row2_col9, #T_cc73d_row3_col0, #T_cc73d_row3_col1, #T_cc73d_row3_col4, #T_cc73d_row3_col6, #T_cc73d_row4_col0, #T_cc73d_row4_col1, #T_cc73d_row4_col3, #T_cc73d_row4_col5, #T_cc73d_row4_col7, #T_cc73d_row4_col8, #T_cc73d_row5_col1, #T_cc73d_row5_col2, #T_cc73d_row6_col1, #T_cc73d_row6_col2, #T_cc73d_row6_col3, #T_cc73d_row6_col4, #T_cc73d_row6_col7, #T_cc73d_row6_col9, #T_cc73d_row7_col0, #T_cc73d_row7_col4, #T_cc73d_row7_col5, #T_cc73d_row7_col6, #T_cc73d_row7_col8, #T_cc73d_row8_col2, #T_cc73d_row9_col2, #T_cc73d_row9_col5, #T_cc73d_row9_col6, #T_cc73d_row9_col8 {\n",
              "  background-color: #ffffff;\n",
              "  color: #000000;\n",
              "}\n",
              "#T_cc73d_row1_col2, #T_cc73d_row2_col3, #T_cc73d_row2_col6, #T_cc73d_row4_col2, #T_cc73d_row4_col6, #T_cc73d_row5_col4, #T_cc73d_row5_col7, #T_cc73d_row6_col8, #T_cc73d_row7_col1, #T_cc73d_row7_col3, #T_cc73d_row8_col1, #T_cc73d_row9_col1, #T_cc73d_row9_col3 {\n",
              "  background-color: #fefefe;\n",
              "  color: #000000;\n",
              "}\n",
              "#T_cc73d_row1_col8, #T_cc73d_row2_col4, #T_cc73d_row2_col8, #T_cc73d_row5_col0, #T_cc73d_row5_col8, #T_cc73d_row5_col9, #T_cc73d_row8_col0, #T_cc73d_row8_col5, #T_cc73d_row8_col6, #T_cc73d_row8_col7, #T_cc73d_row9_col0, #T_cc73d_row9_col4, #T_cc73d_row9_col7 {\n",
              "  background-color: #fdfdfd;\n",
              "  color: #000000;\n",
              "}\n",
              "#T_cc73d_row2_col0, #T_cc73d_row3_col7, #T_cc73d_row3_col8, #T_cc73d_row3_col9, #T_cc73d_row5_col6, #T_cc73d_row6_col0, #T_cc73d_row6_col5, #T_cc73d_row7_col2, #T_cc73d_row8_col3, #T_cc73d_row8_col4 {\n",
              "  background-color: #fcfcfc;\n",
              "  color: #000000;\n",
              "}\n",
              "#T_cc73d_row2_col7, #T_cc73d_row3_col5, #T_cc73d_row7_col9 {\n",
              "  background-color: #fbfbfb;\n",
              "  color: #000000;\n",
              "}\n",
              "#T_cc73d_row3_col2, #T_cc73d_row5_col3, #T_cc73d_row8_col9 {\n",
              "  background-color: #fafafa;\n",
              "  color: #000000;\n",
              "}\n",
              "#T_cc73d_row4_col9 {\n",
              "  background-color: #f1f1f1;\n",
              "  color: #000000;\n",
              "}\n",
              "</style>\n",
              "<table id=\"T_cc73d_\" class=\"dataframe\">\n",
              "  <thead>\n",
              "    <tr>\n",
              "      <th class=\"index_name level0\" >predicted</th>\n",
              "      <th class=\"col_heading level0 col0\" >0</th>\n",
              "      <th class=\"col_heading level0 col1\" >1</th>\n",
              "      <th class=\"col_heading level0 col2\" >2</th>\n",
              "      <th class=\"col_heading level0 col3\" >3</th>\n",
              "      <th class=\"col_heading level0 col4\" >4</th>\n",
              "      <th class=\"col_heading level0 col5\" >5</th>\n",
              "      <th class=\"col_heading level0 col6\" >6</th>\n",
              "      <th class=\"col_heading level0 col7\" >7</th>\n",
              "      <th class=\"col_heading level0 col8\" >8</th>\n",
              "      <th class=\"col_heading level0 col9\" >9</th>\n",
              "    </tr>\n",
              "    <tr>\n",
              "      <th class=\"index_name level0\" >actual</th>\n",
              "      <th class=\"blank col0\" >&nbsp;</th>\n",
              "      <th class=\"blank col1\" >&nbsp;</th>\n",
              "      <th class=\"blank col2\" >&nbsp;</th>\n",
              "      <th class=\"blank col3\" >&nbsp;</th>\n",
              "      <th class=\"blank col4\" >&nbsp;</th>\n",
              "      <th class=\"blank col5\" >&nbsp;</th>\n",
              "      <th class=\"blank col6\" >&nbsp;</th>\n",
              "      <th class=\"blank col7\" >&nbsp;</th>\n",
              "      <th class=\"blank col8\" >&nbsp;</th>\n",
              "      <th class=\"blank col9\" >&nbsp;</th>\n",
              "    </tr>\n",
              "  </thead>\n",
              "  <tbody>\n",
              "    <tr>\n",
              "      <th id=\"T_cc73d_level0_row0\" class=\"row_heading level0 row0\" >0</th>\n",
              "      <td id=\"T_cc73d_row0_col0\" class=\"data row0 col0\" >971</td>\n",
              "      <td id=\"T_cc73d_row0_col1\" class=\"data row0 col1\" >0</td>\n",
              "      <td id=\"T_cc73d_row0_col2\" class=\"data row0 col2\" >1</td>\n",
              "      <td id=\"T_cc73d_row0_col3\" class=\"data row0 col3\" >0</td>\n",
              "      <td id=\"T_cc73d_row0_col4\" class=\"data row0 col4\" >1</td>\n",
              "      <td id=\"T_cc73d_row0_col5\" class=\"data row0 col5\" >3</td>\n",
              "      <td id=\"T_cc73d_row0_col6\" class=\"data row0 col6\" >1</td>\n",
              "      <td id=\"T_cc73d_row0_col7\" class=\"data row0 col7\" >1</td>\n",
              "      <td id=\"T_cc73d_row0_col8\" class=\"data row0 col8\" >2</td>\n",
              "      <td id=\"T_cc73d_row0_col9\" class=\"data row0 col9\" >0</td>\n",
              "    </tr>\n",
              "    <tr>\n",
              "      <th id=\"T_cc73d_level0_row1\" class=\"row_heading level0 row1\" >1</th>\n",
              "      <td id=\"T_cc73d_row1_col0\" class=\"data row1 col0\" >0</td>\n",
              "      <td id=\"T_cc73d_row1_col1\" class=\"data row1 col1\" >1113</td>\n",
              "      <td id=\"T_cc73d_row1_col2\" class=\"data row1 col2\" >5</td>\n",
              "      <td id=\"T_cc73d_row1_col3\" class=\"data row1 col3\" >1</td>\n",
              "      <td id=\"T_cc73d_row1_col4\" class=\"data row1 col4\" >0</td>\n",
              "      <td id=\"T_cc73d_row1_col5\" class=\"data row1 col5\" >1</td>\n",
              "      <td id=\"T_cc73d_row1_col6\" class=\"data row1 col6\" >3</td>\n",
              "      <td id=\"T_cc73d_row1_col7\" class=\"data row1 col7\" >2</td>\n",
              "      <td id=\"T_cc73d_row1_col8\" class=\"data row1 col8\" >9</td>\n",
              "      <td id=\"T_cc73d_row1_col9\" class=\"data row1 col9\" >1</td>\n",
              "    </tr>\n",
              "    <tr>\n",
              "      <th id=\"T_cc73d_level0_row2\" class=\"row_heading level0 row2\" >2</th>\n",
              "      <td id=\"T_cc73d_row2_col0\" class=\"data row2 col0\" >12</td>\n",
              "      <td id=\"T_cc73d_row2_col1\" class=\"data row2 col1\" >1</td>\n",
              "      <td id=\"T_cc73d_row2_col2\" class=\"data row2 col2\" >970</td>\n",
              "      <td id=\"T_cc73d_row2_col3\" class=\"data row2 col3\" >6</td>\n",
              "      <td id=\"T_cc73d_row2_col4\" class=\"data row2 col4\" >9</td>\n",
              "      <td id=\"T_cc73d_row2_col5\" class=\"data row2 col5\" >0</td>\n",
              "      <td id=\"T_cc73d_row2_col6\" class=\"data row2 col6\" >6</td>\n",
              "      <td id=\"T_cc73d_row2_col7\" class=\"data row2 col7\" >18</td>\n",
              "      <td id=\"T_cc73d_row2_col8\" class=\"data row2 col8\" >9</td>\n",
              "      <td id=\"T_cc73d_row2_col9\" class=\"data row2 col9\" >1</td>\n",
              "    </tr>\n",
              "    <tr>\n",
              "      <th id=\"T_cc73d_level0_row3\" class=\"row_heading level0 row3\" >3</th>\n",
              "      <td id=\"T_cc73d_row3_col0\" class=\"data row3 col0\" >3</td>\n",
              "      <td id=\"T_cc73d_row3_col1\" class=\"data row3 col1\" >0</td>\n",
              "      <td id=\"T_cc73d_row3_col2\" class=\"data row3 col2\" >22</td>\n",
              "      <td id=\"T_cc73d_row3_col3\" class=\"data row3 col3\" >930</td>\n",
              "      <td id=\"T_cc73d_row3_col4\" class=\"data row3 col4\" >1</td>\n",
              "      <td id=\"T_cc73d_row3_col5\" class=\"data row3 col5\" >16</td>\n",
              "      <td id=\"T_cc73d_row3_col6\" class=\"data row3 col6\" >0</td>\n",
              "      <td id=\"T_cc73d_row3_col7\" class=\"data row3 col7\" >12</td>\n",
              "      <td id=\"T_cc73d_row3_col8\" class=\"data row3 col8\" >11</td>\n",
              "      <td id=\"T_cc73d_row3_col9\" class=\"data row3 col9\" >15</td>\n",
              "    </tr>\n",
              "    <tr>\n",
              "      <th id=\"T_cc73d_level0_row4\" class=\"row_heading level0 row4\" >4</th>\n",
              "      <td id=\"T_cc73d_row4_col0\" class=\"data row4 col0\" >2</td>\n",
              "      <td id=\"T_cc73d_row4_col1\" class=\"data row4 col1\" >1</td>\n",
              "      <td id=\"T_cc73d_row4_col2\" class=\"data row4 col2\" >5</td>\n",
              "      <td id=\"T_cc73d_row4_col3\" class=\"data row4 col3\" >0</td>\n",
              "      <td id=\"T_cc73d_row4_col4\" class=\"data row4 col4\" >912</td>\n",
              "      <td id=\"T_cc73d_row4_col5\" class=\"data row4 col5\" >0</td>\n",
              "      <td id=\"T_cc73d_row4_col6\" class=\"data row4 col6\" >4</td>\n",
              "      <td id=\"T_cc73d_row4_col7\" class=\"data row4 col7\" >2</td>\n",
              "      <td id=\"T_cc73d_row4_col8\" class=\"data row4 col8\" >2</td>\n",
              "      <td id=\"T_cc73d_row4_col9\" class=\"data row4 col9\" >54</td>\n",
              "    </tr>\n",
              "    <tr>\n",
              "      <th id=\"T_cc73d_level0_row5\" class=\"row_heading level0 row5\" >5</th>\n",
              "      <td id=\"T_cc73d_row5_col0\" class=\"data row5 col0\" >8</td>\n",
              "      <td id=\"T_cc73d_row5_col1\" class=\"data row5 col1\" >3</td>\n",
              "      <td id=\"T_cc73d_row5_col2\" class=\"data row5 col2\" >1</td>\n",
              "      <td id=\"T_cc73d_row5_col3\" class=\"data row5 col3\" >19</td>\n",
              "      <td id=\"T_cc73d_row5_col4\" class=\"data row5 col4\" >4</td>\n",
              "      <td id=\"T_cc73d_row5_col5\" class=\"data row5 col5\" >822</td>\n",
              "      <td id=\"T_cc73d_row5_col6\" class=\"data row5 col6\" >13</td>\n",
              "      <td id=\"T_cc73d_row5_col7\" class=\"data row5 col7\" >4</td>\n",
              "      <td id=\"T_cc73d_row5_col8\" class=\"data row5 col8\" >7</td>\n",
              "      <td id=\"T_cc73d_row5_col9\" class=\"data row5 col9\" >11</td>\n",
              "    </tr>\n",
              "    <tr>\n",
              "      <th id=\"T_cc73d_level0_row6\" class=\"row_heading level0 row6\" >6</th>\n",
              "      <td id=\"T_cc73d_row6_col0\" class=\"data row6 col0\" >13</td>\n",
              "      <td id=\"T_cc73d_row6_col1\" class=\"data row6 col1\" >3</td>\n",
              "      <td id=\"T_cc73d_row6_col2\" class=\"data row6 col2\" >2</td>\n",
              "      <td id=\"T_cc73d_row6_col3\" class=\"data row6 col3\" >0</td>\n",
              "      <td id=\"T_cc73d_row6_col4\" class=\"data row6 col4\" >3</td>\n",
              "      <td id=\"T_cc73d_row6_col5\" class=\"data row6 col5\" >11</td>\n",
              "      <td id=\"T_cc73d_row6_col6\" class=\"data row6 col6\" >920</td>\n",
              "      <td id=\"T_cc73d_row6_col7\" class=\"data row6 col7\" >0</td>\n",
              "      <td id=\"T_cc73d_row6_col8\" class=\"data row6 col8\" >6</td>\n",
              "      <td id=\"T_cc73d_row6_col9\" class=\"data row6 col9\" >0</td>\n",
              "    </tr>\n",
              "    <tr>\n",
              "      <th id=\"T_cc73d_level0_row7\" class=\"row_heading level0 row7\" >7</th>\n",
              "      <td id=\"T_cc73d_row7_col0\" class=\"data row7 col0\" >3</td>\n",
              "      <td id=\"T_cc73d_row7_col1\" class=\"data row7 col1\" >6</td>\n",
              "      <td id=\"T_cc73d_row7_col2\" class=\"data row7 col2\" >13</td>\n",
              "      <td id=\"T_cc73d_row7_col3\" class=\"data row7 col3\" >5</td>\n",
              "      <td id=\"T_cc73d_row7_col4\" class=\"data row7 col4\" >1</td>\n",
              "      <td id=\"T_cc73d_row7_col5\" class=\"data row7 col5\" >0</td>\n",
              "      <td id=\"T_cc73d_row7_col6\" class=\"data row7 col6\" >0</td>\n",
              "      <td id=\"T_cc73d_row7_col7\" class=\"data row7 col7\" >984</td>\n",
              "      <td id=\"T_cc73d_row7_col8\" class=\"data row7 col8\" >0</td>\n",
              "      <td id=\"T_cc73d_row7_col9\" class=\"data row7 col9\" >16</td>\n",
              "    </tr>\n",
              "    <tr>\n",
              "      <th id=\"T_cc73d_level0_row8\" class=\"row_heading level0 row8\" >8</th>\n",
              "      <td id=\"T_cc73d_row8_col0\" class=\"data row8 col0\" >11</td>\n",
              "      <td id=\"T_cc73d_row8_col1\" class=\"data row8 col1\" >5</td>\n",
              "      <td id=\"T_cc73d_row8_col2\" class=\"data row8 col2\" >3</td>\n",
              "      <td id=\"T_cc73d_row8_col3\" class=\"data row8 col3\" >14</td>\n",
              "      <td id=\"T_cc73d_row8_col4\" class=\"data row8 col4\" >11</td>\n",
              "      <td id=\"T_cc73d_row8_col5\" class=\"data row8 col5\" >7</td>\n",
              "      <td id=\"T_cc73d_row8_col6\" class=\"data row8 col6\" >9</td>\n",
              "      <td id=\"T_cc73d_row8_col7\" class=\"data row8 col7\" >11</td>\n",
              "      <td id=\"T_cc73d_row8_col8\" class=\"data row8 col8\" >882</td>\n",
              "      <td id=\"T_cc73d_row8_col9\" class=\"data row8 col9\" >21</td>\n",
              "    </tr>\n",
              "    <tr>\n",
              "      <th id=\"T_cc73d_level0_row9\" class=\"row_heading level0 row9\" >9</th>\n",
              "      <td id=\"T_cc73d_row9_col0\" class=\"data row9 col0\" >9</td>\n",
              "      <td id=\"T_cc73d_row9_col1\" class=\"data row9 col1\" >5</td>\n",
              "      <td id=\"T_cc73d_row9_col2\" class=\"data row9 col2\" >1</td>\n",
              "      <td id=\"T_cc73d_row9_col3\" class=\"data row9 col3\" >6</td>\n",
              "      <td id=\"T_cc73d_row9_col4\" class=\"data row9 col4\" >8</td>\n",
              "      <td id=\"T_cc73d_row9_col5\" class=\"data row9 col5\" >2</td>\n",
              "      <td id=\"T_cc73d_row9_col6\" class=\"data row9 col6\" >0</td>\n",
              "      <td id=\"T_cc73d_row9_col7\" class=\"data row9 col7\" >9</td>\n",
              "      <td id=\"T_cc73d_row9_col8\" class=\"data row9 col8\" >2</td>\n",
              "      <td id=\"T_cc73d_row9_col9\" class=\"data row9 col9\" >967</td>\n",
              "    </tr>\n",
              "  </tbody>\n",
              "</table>\n"
            ]
          },
          "metadata": {},
          "execution_count": 19
        }
      ]
    },
    {
      "cell_type": "markdown",
      "source": [
        "Now, 8s are no longer frequently confused with 2s. The most common mistake now is confusing 4s with 9s. This is not too surprising as they do look similar among some handwritings."
      ],
      "metadata": {
        "id": "o-diW261zmjl"
      }
    },
    {
      "cell_type": "code",
      "source": [
        "inspect_sample_predictions(test_data_norm, test_labels, \n",
        "                           test_preds_1)"
      ],
      "metadata": {
        "colab": {
          "base_uri": "https://localhost:8080/",
          "height": 364
        },
        "id": "CeZ7u553zpRj",
        "outputId": "0832a145-9c5a-4544-978f-d1c323d8c78b"
      },
      "execution_count": 20,
      "outputs": [
        {
          "output_type": "display_data",
          "data": {
            "text/plain": [
              "<Figure size 576x360 with 6 Axes>"
            ],
            "image/png": "[encoded data removed]"
          },
          "metadata": {}
        }
      ]
    },
    {
      "cell_type": "markdown",
      "source": [
        "As we used the same seed to pull random images, we are looking at the same subset of images as before. We can see that some of previously incorrectly predicted images are now correctly predicted. It’s good to see that correct images have high probability whereas the incorrect one has lower probability."
      ],
      "metadata": {
        "id": "EViAlf3uzt4k"
      }
    },
    {
      "cell_type": "code",
      "source": [
        "see_most_incorrect(test_data_norm, test_labels, test_preds_1)"
      ],
      "metadata": {
        "colab": {
          "base_uri": "https://localhost:8080/",
          "height": 364
        },
        "id": "D-oNR7a0zu-l",
        "outputId": "2e68a488-4649-4bb1-fa53-7f103fbc317e"
      },
      "execution_count": 21,
      "outputs": [
        {
          "output_type": "display_data",
          "data": {
            "text/plain": [
              "<Figure size 576x360 with 6 Axes>"
            ],
            "image/png": "[encoded data removed]"
          },
          "metadata": {}
        }
      ]
    },
    {
      "cell_type": "markdown",
      "source": [
        "We can see that there’s still room for improvement.\n",
        "\n",
        "Let’s see if we can improve the model."
      ],
      "metadata": {
        "id": "IhPhq1AKz5Sr"
      }
    },
    {
      "cell_type": "markdown",
      "source": [
        "🔧 Model 2<br>\n",
        "We will use `model_1` as the base and increase the number of units from 16 to 64 in the hidden layers:"
      ],
      "metadata": {
        "id": "CjrfZg-F1Epp"
      }
    },
    {
      "cell_type": "code",
      "source": [
        "tf.random.set_seed(42)\n",
        "model_2 = Sequential([\n",
        "    Flatten(input_shape=(28, 28)),\n",
        "    Dense(64, activation=\"relu\"),\n",
        "    Dense(64, activation=\"relu\"),\n",
        "    Dense(n_classes, activation=\"softmax\")\n",
        "])\n",
        "model_2.compile(loss=\"categorical_crossentropy\", optimizer='Adam',\n",
        "                metrics=[\"accuracy\"])\n",
        "model_2.summary()"
      ],
      "metadata": {
        "colab": {
          "base_uri": "https://localhost:8080/"
        },
        "id": "qvTjIS6U1sBD",
        "outputId": "805927b8-d119-4fc5-c444-236f31c6f1ab"
      },
      "execution_count": 22,
      "outputs": [
        {
          "output_type": "stream",
          "name": "stdout",
          "text": [
            "Model: \"sequential_2\"\n",
            "_________________________________________________________________\n",
            " Layer (type)                Output Shape              Param #   \n",
            "=================================================================\n",
            " flatten_2 (Flatten)         (None, 784)               0         \n",
            "                                                                 \n",
            " dense_6 (Dense)             (None, 64)                50240     \n",
            "                                                                 \n",
            " dense_7 (Dense)             (None, 64)                4160      \n",
            "                                                                 \n",
            " dense_8 (Dense)             (None, 10)                650       \n",
            "                                                                 \n",
            "=================================================================\n",
            "Total params: 55,050\n",
            "Trainable params: 55,050\n",
            "Non-trainable params: 0\n",
            "_________________________________________________________________\n"
          ]
        }
      ]
    },
    {
      "cell_type": "markdown",
      "source": [
        "We have a lot more parameters now since we have increased the number of units."
      ],
      "metadata": {
        "id": "hS6wU70Q1ud1"
      }
    },
    {
      "cell_type": "code",
      "source": [
        "hist_2 = model_2.fit(\n",
        "    train_data_norm, train_labels_ohe, epochs=5, \n",
        "    validation_data=(valid_data_norm, valid_labels_ohe)\n",
        ")"
      ],
      "metadata": {
        "colab": {
          "base_uri": "https://localhost:8080/"
        },
        "id": "y6AFTseD2Vic",
        "outputId": "67a3ba60-a743-4e35-d5a0-3d2bb2a0a36f"
      },
      "execution_count": 23,
      "outputs": [
        {
          "output_type": "stream",
          "name": "stdout",
          "text": [
            "Epoch 1/5\n",
            "1563/1563 [==============================] - 6s 3ms/step - loss: 0.2947 - accuracy: 0.9130 - val_loss: 0.1638 - val_accuracy: 0.9502\n",
            "Epoch 2/5\n",
            "1563/1563 [==============================] - 5s 3ms/step - loss: 0.1317 - accuracy: 0.9605 - val_loss: 0.1380 - val_accuracy: 0.9586\n",
            "Epoch 3/5\n",
            "1563/1563 [==============================] - 5s 3ms/step - loss: 0.0971 - accuracy: 0.9710 - val_loss: 0.1017 - val_accuracy: 0.9702\n",
            "Epoch 4/5\n",
            "1563/1563 [==============================] - 5s 3ms/step - loss: 0.0752 - accuracy: 0.9766 - val_loss: 0.1058 - val_accuracy: 0.9673\n",
            "Epoch 5/5\n",
            "1563/1563 [==============================] - 5s 3ms/step - loss: 0.0645 - accuracy: 0.9798 - val_loss: 0.0879 - val_accuracy: 0.9732\n"
          ]
        }
      ]
    },
    {
      "cell_type": "markdown",
      "source": [
        "The model performance looks slightly better than before."
      ],
      "metadata": {
        "id": "JfNbY7nS3PGw"
      }
    },
    {
      "cell_type": "code",
      "source": [
        "sns.lineplot(data=clean_history(hist_2), x='epochs', y='accuracy', \n",
        "             hue='dataset');"
      ],
      "metadata": {
        "colab": {
          "base_uri": "https://localhost:8080/",
          "height": 301
        },
        "id": "RF0s9DxH3QKl",
        "outputId": "82117c3f-7177-4b78-f7a6-53f5b0c4d4cb"
      },
      "execution_count": 24,
      "outputs": [
        {
          "output_type": "display_data",
          "data": {
            "text/plain": [
              "<Figure size 432x288 with 1 Axes>"
            ],
            "image/png": "[encoded data removed]"
          },
          "metadata": {}
        }
      ]
    },
    {
      "cell_type": "markdown",
      "source": [
        "In the last two epochs, the model is slightly overfitting. Let’s evaluate the model on the test data:"
      ],
      "metadata": {
        "id": "N3G6vix03gcM"
      }
    },
    {
      "cell_type": "code",
      "source": [
        "test_preds_2 = model_2.predict(test_data_norm)\n",
        "test_classes_2 = test_preds_2.argmax(axis=1)\n",
        "test_metrics.loc['model_2'] = np.mean(test_labels==test_classes_2)\n",
        "test_metrics"
      ],
      "metadata": {
        "colab": {
          "base_uri": "https://localhost:8080/",
          "height": 161
        },
        "id": "F_p9ehPG3hCm",
        "outputId": "71a8f9de-04b9-4f56-d28e-c0af665aa670"
      },
      "execution_count": 25,
      "outputs": [
        {
          "output_type": "stream",
          "name": "stdout",
          "text": [
            "313/313 [==============================] - 1s 2ms/step\n"
          ]
        },
        {
          "output_type": "execute_result",
          "data": {
            "text/plain": [
              "         Test accuracy\n",
              "model_0         0.7965\n",
              "model_1         0.9471\n",
              "model_2         0.9719"
            ],
            "text/html": [
              "\n",
              "  <div id=\"df-1152b5a0-9d50-4162-b803-2a00d8a16e08\">\n",
              "    <div class=\"colab-df-container\">\n",
              "      <div>\n",
              "<style scoped>\n",
              "    .dataframe tbody tr th:only-of-type {\n",
              "        vertical-align: middle;\n",
              "    }\n",
              "\n",
              "    .dataframe tbody tr th {\n",
              "        vertical-align: top;\n",
              "    }\n",
              "\n",
              "    .dataframe thead th {\n",
              "        text-align: right;\n",
              "    }\n",
              "</style>\n",
              "<table border=\"1\" class=\"dataframe\">\n",
              "  <thead>\n",
              "    <tr style=\"text-align: right;\">\n",
              "      <th></th>\n",
              "      <th>Test accuracy</th>\n",
              "    </tr>\n",
              "  </thead>\n",
              "  <tbody>\n",
              "    <tr>\n",
              "      <th>model_0</th>\n",
              "      <td>0.7965</td>\n",
              "    </tr>\n",
              "    <tr>\n",
              "      <th>model_1</th>\n",
              "      <td>0.9471</td>\n",
              "    </tr>\n",
              "    <tr>\n",
              "      <th>model_2</th>\n",
              "      <td>0.9719</td>\n",
              "    </tr>\n",
              "  </tbody>\n",
              "</table>\n",
              "</div>\n",
              "      <button class=\"colab-df-convert\" onclick=\"convertToInteractive('df-1152b5a0-9d50-4162-b803-2a00d8a16e08')\"\n",
              "              title=\"Convert this dataframe to an interactive table.\"\n",
              "              style=\"display:none;\">\n",
              "        \n",
              "  <svg xmlns=\"http://www.w3.org/2000/svg\" height=\"24px\"viewBox=\"0 0 24 24\"\n",
              "       width=\"24px\">\n",
              "    <path d=\"M0 0h24v24H0V0z\" fill=\"none\"/>\n",
              "    <path d=\"M18.56 5.44l.94 2.06.94-2.06 2.06-.94-2.06-.94-.94-2.06-.94 2.06-2.06.94zm-11 1L8.5 8.5l.94-2.06 2.06-.94-2.06-.94L8.5 2.5l-.94 2.06-2.06.94zm10 10l.94 2.06.94-2.06 2.06-.94-2.06-.94-.94-2.06-.94 2.06-2.06.94z\"/><path d=\"M17.41 7.96l-1.37-1.37c-.4-.4-.92-.59-1.43-.59-.52 0-1.04.2-1.43.59L10.3 9.45l-7.72 7.72c-.78.78-.78 2.05 0 2.83L4 21.41c.39.39.9.59 1.41.59.51 0 1.02-.2 1.41-.59l7.78-7.78 2.81-2.81c.8-.78.8-2.07 0-2.86zM5.41 20L4 18.59l7.72-7.72 1.47 1.35L5.41 20z\"/>\n",
              "  </svg>\n",
              "      </button>\n",
              "      \n",
              "  <style>\n",
              "    .colab-df-container {\n",
              "      display:flex;\n",
              "      flex-wrap:wrap;\n",
              "      gap: 12px;\n",
              "    }\n",
              "\n",
              "    .colab-df-convert {\n",
              "      background-color: #E8F0FE;\n",
              "      border: none;\n",
              "      border-radius: 50%;\n",
              "      cursor: pointer;\n",
              "      display: none;\n",
              "      fill: #1967D2;\n",
              "      height: 32px;\n",
              "      padding: 0 0 0 0;\n",
              "      width: 32px;\n",
              "    }\n",
              "\n",
              "    .colab-df-convert:hover {\n",
              "      background-color: #E2EBFA;\n",
              "      box-shadow: 0px 1px 2px rgba(60, 64, 67, 0.3), 0px 1px 3px 1px rgba(60, 64, 67, 0.15);\n",
              "      fill: #174EA6;\n",
              "    }\n",
              "\n",
              "    [theme=dark] .colab-df-convert {\n",
              "      background-color: #3B4455;\n",
              "      fill: #D2E3FC;\n",
              "    }\n",
              "\n",
              "    [theme=dark] .colab-df-convert:hover {\n",
              "      background-color: #434B5C;\n",
              "      box-shadow: 0px 1px 3px 1px rgba(0, 0, 0, 0.15);\n",
              "      filter: drop-shadow(0px 1px 2px rgba(0, 0, 0, 0.3));\n",
              "      fill: #FFFFFF;\n",
              "    }\n",
              "  </style>\n",
              "\n",
              "      <script>\n",
              "        const buttonEl =\n",
              "          document.querySelector('#df-1152b5a0-9d50-4162-b803-2a00d8a16e08 button.colab-df-convert');\n",
              "        buttonEl.style.display =\n",
              "          google.colab.kernel.accessAllowed ? 'block' : 'none';\n",
              "\n",
              "        async function convertToInteractive(key) {\n",
              "          const element = document.querySelector('#df-1152b5a0-9d50-4162-b803-2a00d8a16e08');\n",
              "          const dataTable =\n",
              "            await google.colab.kernel.invokeFunction('convertToInteractive',\n",
              "                                                     [key], {});\n",
              "          if (!dataTable) return;\n",
              "\n",
              "          const docLinkHtml = 'Like what you see? Visit the ' +\n",
              "            '<a target=\"_blank\" href=https://colab.research.google.com/notebooks/data_table.ipynb>data table notebook</a>'\n",
              "            + ' to learn more about interactive tables.';\n",
              "          element.innerHTML = '';\n",
              "          dataTable['output_type'] = 'display_data';\n",
              "          await google.colab.output.renderOutput(dataTable, element);\n",
              "          const docLink = document.createElement('div');\n",
              "          docLink.innerHTML = docLinkHtml;\n",
              "          element.appendChild(docLink);\n",
              "        }\n",
              "      </script>\n",
              "    </div>\n",
              "  </div>\n",
              "  "
            ]
          },
          "metadata": {},
          "execution_count": 25
        }
      ]
    },
    {
      "cell_type": "markdown",
      "source": [
        "Awesome, it’s great to see we are still seeing improvements to the model."
      ],
      "metadata": {
        "id": "rHqEFuF53rKZ"
      }
    },
    {
      "cell_type": "code",
      "source": [
        "show_confusion_matrix(test_labels, test_classes_2)"
      ],
      "metadata": {
        "colab": {
          "base_uri": "https://localhost:8080/",
          "height": 394
        },
        "id": "9sTDj48C3sBd",
        "outputId": "7029dc5e-2116-46fc-8339-4d5f1e3e92ad"
      },
      "execution_count": 26,
      "outputs": [
        {
          "output_type": "execute_result",
          "data": {
            "text/plain": [
              "<pandas.io.formats.style.Styler at 0x7fd11b144690>"
            ],
            "text/html": [
              "<style type=\"text/css\">\n",
              "#T_b5d8f_row0_col0, #T_b5d8f_row1_col1, #T_b5d8f_row2_col2, #T_b5d8f_row3_col3, #T_b5d8f_row4_col4, #T_b5d8f_row5_col5, #T_b5d8f_row6_col6, #T_b5d8f_row7_col7, #T_b5d8f_row8_col8, #T_b5d8f_row9_col9 {\n",
              "  background-color: #000000;\n",
              "  color: #f1f1f1;\n",
              "}\n",
              "#T_b5d8f_row0_col1, #T_b5d8f_row0_col2, #T_b5d8f_row0_col3, #T_b5d8f_row0_col4, #T_b5d8f_row0_col5, #T_b5d8f_row0_col6, #T_b5d8f_row0_col7, #T_b5d8f_row0_col8, #T_b5d8f_row0_col9, #T_b5d8f_row1_col0, #T_b5d8f_row1_col3, #T_b5d8f_row1_col4, #T_b5d8f_row1_col5, #T_b5d8f_row1_col6, #T_b5d8f_row1_col7, #T_b5d8f_row1_col8, #T_b5d8f_row1_col9, #T_b5d8f_row2_col1, #T_b5d8f_row2_col4, #T_b5d8f_row2_col5, #T_b5d8f_row2_col6, #T_b5d8f_row2_col9, #T_b5d8f_row3_col0, #T_b5d8f_row3_col1, #T_b5d8f_row3_col4, #T_b5d8f_row3_col6, #T_b5d8f_row3_col8, #T_b5d8f_row4_col0, #T_b5d8f_row4_col1, #T_b5d8f_row4_col3, #T_b5d8f_row4_col5, #T_b5d8f_row4_col7, #T_b5d8f_row4_col8, #T_b5d8f_row5_col0, #T_b5d8f_row5_col1, #T_b5d8f_row5_col2, #T_b5d8f_row5_col4, #T_b5d8f_row5_col7, #T_b5d8f_row5_col8, #T_b5d8f_row6_col1, #T_b5d8f_row6_col2, #T_b5d8f_row6_col3, #T_b5d8f_row6_col4, #T_b5d8f_row6_col7, #T_b5d8f_row6_col8, #T_b5d8f_row6_col9, #T_b5d8f_row7_col0, #T_b5d8f_row7_col5, #T_b5d8f_row7_col6, #T_b5d8f_row8_col1, #T_b5d8f_row9_col0, #T_b5d8f_row9_col1, #T_b5d8f_row9_col2, #T_b5d8f_row9_col3, #T_b5d8f_row9_col5, #T_b5d8f_row9_col6, #T_b5d8f_row9_col8 {\n",
              "  background-color: #ffffff;\n",
              "  color: #000000;\n",
              "}\n",
              "#T_b5d8f_row1_col2, #T_b5d8f_row2_col0, #T_b5d8f_row2_col3, #T_b5d8f_row2_col7, #T_b5d8f_row3_col5, #T_b5d8f_row3_col7, #T_b5d8f_row4_col2, #T_b5d8f_row4_col6, #T_b5d8f_row5_col6, #T_b5d8f_row5_col9, #T_b5d8f_row7_col1, #T_b5d8f_row7_col2, #T_b5d8f_row7_col3, #T_b5d8f_row7_col4, #T_b5d8f_row7_col8, #T_b5d8f_row8_col2, #T_b5d8f_row8_col3, #T_b5d8f_row8_col4, #T_b5d8f_row8_col5, #T_b5d8f_row8_col6, #T_b5d8f_row8_col7, #T_b5d8f_row8_col9, #T_b5d8f_row9_col7 {\n",
              "  background-color: #fefefe;\n",
              "  color: #000000;\n",
              "}\n",
              "#T_b5d8f_row2_col8, #T_b5d8f_row3_col2, #T_b5d8f_row3_col9, #T_b5d8f_row6_col0, #T_b5d8f_row6_col5, #T_b5d8f_row8_col0, #T_b5d8f_row9_col4 {\n",
              "  background-color: #fdfdfd;\n",
              "  color: #000000;\n",
              "}\n",
              "#T_b5d8f_row4_col9 {\n",
              "  background-color: #fafafa;\n",
              "  color: #000000;\n",
              "}\n",
              "#T_b5d8f_row5_col3, #T_b5d8f_row7_col9 {\n",
              "  background-color: #fcfcfc;\n",
              "  color: #000000;\n",
              "}\n",
              "</style>\n",
              "<table id=\"T_b5d8f_\" class=\"dataframe\">\n",
              "  <thead>\n",
              "    <tr>\n",
              "      <th class=\"index_name level0\" >predicted</th>\n",
              "      <th class=\"col_heading level0 col0\" >0</th>\n",
              "      <th class=\"col_heading level0 col1\" >1</th>\n",
              "      <th class=\"col_heading level0 col2\" >2</th>\n",
              "      <th class=\"col_heading level0 col3\" >3</th>\n",
              "      <th class=\"col_heading level0 col4\" >4</th>\n",
              "      <th class=\"col_heading level0 col5\" >5</th>\n",
              "      <th class=\"col_heading level0 col6\" >6</th>\n",
              "      <th class=\"col_heading level0 col7\" >7</th>\n",
              "      <th class=\"col_heading level0 col8\" >8</th>\n",
              "      <th class=\"col_heading level0 col9\" >9</th>\n",
              "    </tr>\n",
              "    <tr>\n",
              "      <th class=\"index_name level0\" >actual</th>\n",
              "      <th class=\"blank col0\" >&nbsp;</th>\n",
              "      <th class=\"blank col1\" >&nbsp;</th>\n",
              "      <th class=\"blank col2\" >&nbsp;</th>\n",
              "      <th class=\"blank col3\" >&nbsp;</th>\n",
              "      <th class=\"blank col4\" >&nbsp;</th>\n",
              "      <th class=\"blank col5\" >&nbsp;</th>\n",
              "      <th class=\"blank col6\" >&nbsp;</th>\n",
              "      <th class=\"blank col7\" >&nbsp;</th>\n",
              "      <th class=\"blank col8\" >&nbsp;</th>\n",
              "      <th class=\"blank col9\" >&nbsp;</th>\n",
              "    </tr>\n",
              "  </thead>\n",
              "  <tbody>\n",
              "    <tr>\n",
              "      <th id=\"T_b5d8f_level0_row0\" class=\"row_heading level0 row0\" >0</th>\n",
              "      <td id=\"T_b5d8f_row0_col0\" class=\"data row0 col0\" >971</td>\n",
              "      <td id=\"T_b5d8f_row0_col1\" class=\"data row0 col1\" >1</td>\n",
              "      <td id=\"T_b5d8f_row0_col2\" class=\"data row0 col2\" >0</td>\n",
              "      <td id=\"T_b5d8f_row0_col3\" class=\"data row0 col3\" >0</td>\n",
              "      <td id=\"T_b5d8f_row0_col4\" class=\"data row0 col4\" >1</td>\n",
              "      <td id=\"T_b5d8f_row0_col5\" class=\"data row0 col5\" >1</td>\n",
              "      <td id=\"T_b5d8f_row0_col6\" class=\"data row0 col6\" >2</td>\n",
              "      <td id=\"T_b5d8f_row0_col7\" class=\"data row0 col7\" >1</td>\n",
              "      <td id=\"T_b5d8f_row0_col8\" class=\"data row0 col8\" >2</td>\n",
              "      <td id=\"T_b5d8f_row0_col9\" class=\"data row0 col9\" >1</td>\n",
              "    </tr>\n",
              "    <tr>\n",
              "      <th id=\"T_b5d8f_level0_row1\" class=\"row_heading level0 row1\" >1</th>\n",
              "      <td id=\"T_b5d8f_row1_col0\" class=\"data row1 col0\" >0</td>\n",
              "      <td id=\"T_b5d8f_row1_col1\" class=\"data row1 col1\" >1122</td>\n",
              "      <td id=\"T_b5d8f_row1_col2\" class=\"data row1 col2\" >7</td>\n",
              "      <td id=\"T_b5d8f_row1_col3\" class=\"data row1 col3\" >2</td>\n",
              "      <td id=\"T_b5d8f_row1_col4\" class=\"data row1 col4\" >0</td>\n",
              "      <td id=\"T_b5d8f_row1_col5\" class=\"data row1 col5\" >1</td>\n",
              "      <td id=\"T_b5d8f_row1_col6\" class=\"data row1 col6\" >1</td>\n",
              "      <td id=\"T_b5d8f_row1_col7\" class=\"data row1 col7\" >0</td>\n",
              "      <td id=\"T_b5d8f_row1_col8\" class=\"data row1 col8\" >2</td>\n",
              "      <td id=\"T_b5d8f_row1_col9\" class=\"data row1 col9\" >0</td>\n",
              "    </tr>\n",
              "    <tr>\n",
              "      <th id=\"T_b5d8f_level0_row2\" class=\"row_heading level0 row2\" >2</th>\n",
              "      <td id=\"T_b5d8f_row2_col0\" class=\"data row2 col0\" >5</td>\n",
              "      <td id=\"T_b5d8f_row2_col1\" class=\"data row2 col1\" >1</td>\n",
              "      <td id=\"T_b5d8f_row2_col2\" class=\"data row2 col2\" >1001</td>\n",
              "      <td id=\"T_b5d8f_row2_col3\" class=\"data row2 col3\" >6</td>\n",
              "      <td id=\"T_b5d8f_row2_col4\" class=\"data row2 col4\" >1</td>\n",
              "      <td id=\"T_b5d8f_row2_col5\" class=\"data row2 col5\" >0</td>\n",
              "      <td id=\"T_b5d8f_row2_col6\" class=\"data row2 col6\" >2</td>\n",
              "      <td id=\"T_b5d8f_row2_col7\" class=\"data row2 col7\" >6</td>\n",
              "      <td id=\"T_b5d8f_row2_col8\" class=\"data row2 col8\" >9</td>\n",
              "      <td id=\"T_b5d8f_row2_col9\" class=\"data row2 col9\" >1</td>\n",
              "    </tr>\n",
              "    <tr>\n",
              "      <th id=\"T_b5d8f_level0_row3\" class=\"row_heading level0 row3\" >3</th>\n",
              "      <td id=\"T_b5d8f_row3_col0\" class=\"data row3 col0\" >0</td>\n",
              "      <td id=\"T_b5d8f_row3_col1\" class=\"data row3 col1\" >0</td>\n",
              "      <td id=\"T_b5d8f_row3_col2\" class=\"data row3 col2\" >8</td>\n",
              "      <td id=\"T_b5d8f_row3_col3\" class=\"data row3 col3\" >980</td>\n",
              "      <td id=\"T_b5d8f_row3_col4\" class=\"data row3 col4\" >0</td>\n",
              "      <td id=\"T_b5d8f_row3_col5\" class=\"data row3 col5\" >5</td>\n",
              "      <td id=\"T_b5d8f_row3_col6\" class=\"data row3 col6\" >0</td>\n",
              "      <td id=\"T_b5d8f_row3_col7\" class=\"data row3 col7\" >6</td>\n",
              "      <td id=\"T_b5d8f_row3_col8\" class=\"data row3 col8\" >2</td>\n",
              "      <td id=\"T_b5d8f_row3_col9\" class=\"data row3 col9\" >9</td>\n",
              "    </tr>\n",
              "    <tr>\n",
              "      <th id=\"T_b5d8f_level0_row4\" class=\"row_heading level0 row4\" >4</th>\n",
              "      <td id=\"T_b5d8f_row4_col0\" class=\"data row4 col0\" >1</td>\n",
              "      <td id=\"T_b5d8f_row4_col1\" class=\"data row4 col1\" >0</td>\n",
              "      <td id=\"T_b5d8f_row4_col2\" class=\"data row4 col2\" >4</td>\n",
              "      <td id=\"T_b5d8f_row4_col3\" class=\"data row4 col3\" >0</td>\n",
              "      <td id=\"T_b5d8f_row4_col4\" class=\"data row4 col4\" >950</td>\n",
              "      <td id=\"T_b5d8f_row4_col5\" class=\"data row4 col5\" >0</td>\n",
              "      <td id=\"T_b5d8f_row4_col6\" class=\"data row4 col6\" >4</td>\n",
              "      <td id=\"T_b5d8f_row4_col7\" class=\"data row4 col7\" >2</td>\n",
              "      <td id=\"T_b5d8f_row4_col8\" class=\"data row4 col8\" >0</td>\n",
              "      <td id=\"T_b5d8f_row4_col9\" class=\"data row4 col9\" >21</td>\n",
              "    </tr>\n",
              "    <tr>\n",
              "      <th id=\"T_b5d8f_level0_row5\" class=\"row_heading level0 row5\" >5</th>\n",
              "      <td id=\"T_b5d8f_row5_col0\" class=\"data row5 col0\" >2</td>\n",
              "      <td id=\"T_b5d8f_row5_col1\" class=\"data row5 col1\" >0</td>\n",
              "      <td id=\"T_b5d8f_row5_col2\" class=\"data row5 col2\" >1</td>\n",
              "      <td id=\"T_b5d8f_row5_col3\" class=\"data row5 col3\" >12</td>\n",
              "      <td id=\"T_b5d8f_row5_col4\" class=\"data row5 col4\" >1</td>\n",
              "      <td id=\"T_b5d8f_row5_col5\" class=\"data row5 col5\" >862</td>\n",
              "      <td id=\"T_b5d8f_row5_col6\" class=\"data row5 col6\" >4</td>\n",
              "      <td id=\"T_b5d8f_row5_col7\" class=\"data row5 col7\" >1</td>\n",
              "      <td id=\"T_b5d8f_row5_col8\" class=\"data row5 col8\" >3</td>\n",
              "      <td id=\"T_b5d8f_row5_col9\" class=\"data row5 col9\" >6</td>\n",
              "    </tr>\n",
              "    <tr>\n",
              "      <th id=\"T_b5d8f_level0_row6\" class=\"row_heading level0 row6\" >6</th>\n",
              "      <td id=\"T_b5d8f_row6_col0\" class=\"data row6 col0\" >8</td>\n",
              "      <td id=\"T_b5d8f_row6_col1\" class=\"data row6 col1\" >2</td>\n",
              "      <td id=\"T_b5d8f_row6_col2\" class=\"data row6 col2\" >3</td>\n",
              "      <td id=\"T_b5d8f_row6_col3\" class=\"data row6 col3\" >1</td>\n",
              "      <td id=\"T_b5d8f_row6_col4\" class=\"data row6 col4\" >3</td>\n",
              "      <td id=\"T_b5d8f_row6_col5\" class=\"data row6 col5\" >7</td>\n",
              "      <td id=\"T_b5d8f_row6_col6\" class=\"data row6 col6\" >931</td>\n",
              "      <td id=\"T_b5d8f_row6_col7\" class=\"data row6 col7\" >0</td>\n",
              "      <td id=\"T_b5d8f_row6_col8\" class=\"data row6 col8\" >3</td>\n",
              "      <td id=\"T_b5d8f_row6_col9\" class=\"data row6 col9\" >0</td>\n",
              "    </tr>\n",
              "    <tr>\n",
              "      <th id=\"T_b5d8f_level0_row7\" class=\"row_heading level0 row7\" >7</th>\n",
              "      <td id=\"T_b5d8f_row7_col0\" class=\"data row7 col0\" >1</td>\n",
              "      <td id=\"T_b5d8f_row7_col1\" class=\"data row7 col1\" >5</td>\n",
              "      <td id=\"T_b5d8f_row7_col2\" class=\"data row7 col2\" >7</td>\n",
              "      <td id=\"T_b5d8f_row7_col3\" class=\"data row7 col3\" >4</td>\n",
              "      <td id=\"T_b5d8f_row7_col4\" class=\"data row7 col4\" >5</td>\n",
              "      <td id=\"T_b5d8f_row7_col5\" class=\"data row7 col5\" >0</td>\n",
              "      <td id=\"T_b5d8f_row7_col6\" class=\"data row7 col6\" >0</td>\n",
              "      <td id=\"T_b5d8f_row7_col7\" class=\"data row7 col7\" >988</td>\n",
              "      <td id=\"T_b5d8f_row7_col8\" class=\"data row7 col8\" >4</td>\n",
              "      <td id=\"T_b5d8f_row7_col9\" class=\"data row7 col9\" >14</td>\n",
              "    </tr>\n",
              "    <tr>\n",
              "      <th id=\"T_b5d8f_level0_row8\" class=\"row_heading level0 row8\" >8</th>\n",
              "      <td id=\"T_b5d8f_row8_col0\" class=\"data row8 col0\" >8</td>\n",
              "      <td id=\"T_b5d8f_row8_col1\" class=\"data row8 col1\" >0</td>\n",
              "      <td id=\"T_b5d8f_row8_col2\" class=\"data row8 col2\" >5</td>\n",
              "      <td id=\"T_b5d8f_row8_col3\" class=\"data row8 col3\" >7</td>\n",
              "      <td id=\"T_b5d8f_row8_col4\" class=\"data row8 col4\" >5</td>\n",
              "      <td id=\"T_b5d8f_row8_col5\" class=\"data row8 col5\" >5</td>\n",
              "      <td id=\"T_b5d8f_row8_col6\" class=\"data row8 col6\" >4</td>\n",
              "      <td id=\"T_b5d8f_row8_col7\" class=\"data row8 col7\" >4</td>\n",
              "      <td id=\"T_b5d8f_row8_col8\" class=\"data row8 col8\" >929</td>\n",
              "      <td id=\"T_b5d8f_row8_col9\" class=\"data row8 col9\" >7</td>\n",
              "    </tr>\n",
              "    <tr>\n",
              "      <th id=\"T_b5d8f_level0_row9\" class=\"row_heading level0 row9\" >9</th>\n",
              "      <td id=\"T_b5d8f_row9_col0\" class=\"data row9 col0\" >3</td>\n",
              "      <td id=\"T_b5d8f_row9_col1\" class=\"data row9 col1\" >2</td>\n",
              "      <td id=\"T_b5d8f_row9_col2\" class=\"data row9 col2\" >0</td>\n",
              "      <td id=\"T_b5d8f_row9_col3\" class=\"data row9 col3\" >2</td>\n",
              "      <td id=\"T_b5d8f_row9_col4\" class=\"data row9 col4\" >9</td>\n",
              "      <td id=\"T_b5d8f_row9_col5\" class=\"data row9 col5\" >2</td>\n",
              "      <td id=\"T_b5d8f_row9_col6\" class=\"data row9 col6\" >0</td>\n",
              "      <td id=\"T_b5d8f_row9_col7\" class=\"data row9 col7\" >6</td>\n",
              "      <td id=\"T_b5d8f_row9_col8\" class=\"data row9 col8\" >0</td>\n",
              "      <td id=\"T_b5d8f_row9_col9\" class=\"data row9 col9\" >985</td>\n",
              "    </tr>\n",
              "  </tbody>\n",
              "</table>\n"
            ]
          },
          "metadata": {},
          "execution_count": 26
        }
      ]
    },
    {
      "cell_type": "markdown",
      "source": [
        "As the model is more accurate, the confusion matrix looks more concentrated along the diagonal with mostly light grey to white cells in the rest of the cells."
      ],
      "metadata": {
        "id": "Tq3qjbZ44HWz"
      }
    },
    {
      "cell_type": "code",
      "source": [
        "inspect_sample_predictions(test_data_norm, test_labels, \n",
        "                           test_preds_2)"
      ],
      "metadata": {
        "colab": {
          "base_uri": "https://localhost:8080/",
          "height": 364
        },
        "id": "87LE3QJO4IJC",
        "outputId": "06715fb2-8908-4bc3-e32f-ac4e5cec56ec"
      },
      "execution_count": 27,
      "outputs": [
        {
          "output_type": "display_data",
          "data": {
            "text/plain": [
              "<Figure size 576x360 with 6 Axes>"
            ],
            "image/png": "[encoded data removed]"
          },
          "metadata": {}
        }
      ]
    },
    {
      "cell_type": "markdown",
      "source": [
        "Now, the model gets all the sample images right!"
      ],
      "metadata": {
        "id": "q26SeUHZ4L5p"
      }
    },
    {
      "cell_type": "code",
      "source": [
        "see_most_incorrect(test_data_norm, test_labels, test_preds_2)"
      ],
      "metadata": {
        "colab": {
          "base_uri": "https://localhost:8080/",
          "height": 364
        },
        "id": "H7Eik9IY4LYm",
        "outputId": "5a03c06c-771f-4506-b873-20ec7c8ecea6"
      },
      "execution_count": 28,
      "outputs": [
        {
          "output_type": "display_data",
          "data": {
            "text/plain": [
              "<Figure size 576x360 with 6 Axes>"
            ],
            "image/png": "[encoded data removed]"
          },
          "metadata": {}
        }
      ]
    },
    {
      "cell_type": "markdown",
      "source": [
        "The middle image at the top looks tricky while the rest of the images are relatively easier for humans to recognise.\n",
        "\n",
        "Let’s see if we can improve the model one last time."
      ],
      "metadata": {
        "id": "H-ykC_j94VoX"
      }
    },
    {
      "cell_type": "markdown",
      "source": [
        "🔧 Model 3<br>\n",
        "Convolutional Neural Network (CNN) works well with image data. So let’s now apply a simple CNN to our data."
      ],
      "metadata": {
        "id": "_BAsvYau4Z6L"
      }
    },
    {
      "cell_type": "code",
      "source": [
        "model_3 = Sequential([\n",
        "    Conv2D(32, 5, padding='same', activation='relu', \n",
        "           input_shape=(28,28,1)),\n",
        "    Conv2D(32, 5, padding='same', activation='relu'),\n",
        "    MaxPooling2D(), \n",
        "    Conv2D(32, 5, padding='same', activation='relu'),\n",
        "    Conv2D(32, 5, padding='same', activation='relu'),\n",
        "    MaxPooling2D(), \n",
        "    Flatten(),\n",
        "    Dense(128, activation='relu'),\n",
        "    Dense(n_classes, activation=\"softmax\")\n",
        "])\n",
        "model_3.compile(loss=\"categorical_crossentropy\", optimizer='Adam',\n",
        "                metrics=[\"accuracy\"])\n",
        "model_3.summary()"
      ],
      "metadata": {
        "colab": {
          "base_uri": "https://localhost:8080/"
        },
        "id": "c4F1MfUk4LTP",
        "outputId": "f06ad830-52ae-4668-bf4b-bb69bfcb967d"
      },
      "execution_count": 29,
      "outputs": [
        {
          "output_type": "stream",
          "name": "stdout",
          "text": [
            "Model: \"sequential_3\"\n",
            "_________________________________________________________________\n",
            " Layer (type)                Output Shape              Param #   \n",
            "=================================================================\n",
            " conv2d (Conv2D)             (None, 28, 28, 32)        832       \n",
            "                                                                 \n",
            " conv2d_1 (Conv2D)           (None, 28, 28, 32)        25632     \n",
            "                                                                 \n",
            " max_pooling2d (MaxPooling2D  (None, 14, 14, 32)       0         \n",
            " )                                                               \n",
            "                                                                 \n",
            " conv2d_2 (Conv2D)           (None, 14, 14, 32)        25632     \n",
            "                                                                 \n",
            " conv2d_3 (Conv2D)           (None, 14, 14, 32)        25632     \n",
            "                                                                 \n",
            " max_pooling2d_1 (MaxPooling  (None, 7, 7, 32)         0         \n",
            " 2D)                                                             \n",
            "                                                                 \n",
            " flatten_3 (Flatten)         (None, 1568)              0         \n",
            "                                                                 \n",
            " dense_9 (Dense)             (None, 128)               200832    \n",
            "                                                                 \n",
            " dense_10 (Dense)            (None, 10)                1290      \n",
            "                                                                 \n",
            "=================================================================\n",
            "Total params: 279,850\n",
            "Trainable params: 279,850\n",
            "Non-trainable params: 0\n",
            "_________________________________________________________________\n"
          ]
        }
      ]
    },
    {
      "cell_type": "markdown",
      "source": [
        "We have a lot more parameters now. Let’s train the model:"
      ],
      "metadata": {
        "id": "SNwh4Oet4qHw"
      }
    },
    {
      "cell_type": "code",
      "source": [
        "hist_3 = model_3.fit(\n",
        "    train_data_norm, train_labels_ohe, epochs=5, \n",
        "    validation_data=(valid_data_norm, valid_labels_ohe)\n",
        ")"
      ],
      "metadata": {
        "colab": {
          "base_uri": "https://localhost:8080/"
        },
        "id": "lXXjiQ9Q4q4e",
        "outputId": "53e22b96-14a0-4c96-b0ad-d28733e2a976"
      },
      "execution_count": 30,
      "outputs": [
        {
          "output_type": "stream",
          "name": "stdout",
          "text": [
            "Epoch 1/5\n",
            "1563/1563 [==============================] - 416s 266ms/step - loss: 0.1219 - accuracy: 0.9620 - val_loss: 0.0550 - val_accuracy: 0.9840\n",
            "Epoch 2/5\n",
            "1563/1563 [==============================] - 410s 263ms/step - loss: 0.0422 - accuracy: 0.9869 - val_loss: 0.0534 - val_accuracy: 0.9858\n",
            "Epoch 3/5\n",
            "1563/1563 [==============================] - 412s 263ms/step - loss: 0.0303 - accuracy: 0.9905 - val_loss: 0.0433 - val_accuracy: 0.9868\n",
            "Epoch 4/5\n",
            "1563/1563 [==============================] - 414s 265ms/step - loss: 0.0219 - accuracy: 0.9936 - val_loss: 0.0345 - val_accuracy: 0.9914\n",
            "Epoch 5/5\n",
            "1563/1563 [==============================] - 413s 264ms/step - loss: 0.0206 - accuracy: 0.9935 - val_loss: 0.0468 - val_accuracy: 0.9877\n"
          ]
        }
      ]
    },
    {
      "cell_type": "markdown",
      "source": [
        "Awesome, there seem to be slight improvement to performance!"
      ],
      "metadata": {
        "id": "s22xipKlBWLY"
      }
    },
    {
      "cell_type": "code",
      "source": [
        "sns.lineplot(data=clean_history(hist_3), x='epochs', y='accuracy', \n",
        "             hue='dataset');"
      ],
      "metadata": {
        "colab": {
          "base_uri": "https://localhost:8080/",
          "height": 301
        },
        "id": "4ImaDMJfBVwO",
        "outputId": "57b14e77-21b3-4b9a-c73b-b1519922918c"
      },
      "execution_count": 31,
      "outputs": [
        {
          "output_type": "display_data",
          "data": {
            "text/plain": [
              "<Figure size 432x288 with 1 Axes>"
            ],
            "image/png": "[encoded data removed]"
          },
          "metadata": {}
        }
      ]
    },
    {
      "cell_type": "markdown",
      "source": [
        "We can see that the model is very slightly overfitting."
      ],
      "metadata": {
        "id": "v6VzIC3xBu7r"
      }
    },
    {
      "cell_type": "code",
      "source": [
        "test_preds_3 = model_3.predict(test_data_norm)\n",
        "test_classes_3 = test_preds_3.argmax(axis=1)\n",
        "test_metrics.loc['model_3'] = np.mean(test_labels==test_classes_3)\n",
        "test_metrics"
      ],
      "metadata": {
        "colab": {
          "base_uri": "https://localhost:8080/",
          "height": 192
        },
        "id": "X9QjBMAnBxMd",
        "outputId": "0896281f-804b-401c-ed1a-637852c27b79"
      },
      "execution_count": 32,
      "outputs": [
        {
          "output_type": "stream",
          "name": "stdout",
          "text": [
            "313/313 [==============================] - 18s 57ms/step\n"
          ]
        },
        {
          "output_type": "execute_result",
          "data": {
            "text/plain": [
              "         Test accuracy\n",
              "model_0         0.7965\n",
              "model_1         0.9471\n",
              "model_2         0.9719\n",
              "model_3         0.9903"
            ],
            "text/html": [
              "\n",
              "  <div id=\"df-cc2e16a1-b9d4-4a44-ade6-496bc37f256f\">\n",
              "    <div class=\"colab-df-container\">\n",
              "      <div>\n",
              "<style scoped>\n",
              "    .dataframe tbody tr th:only-of-type {\n",
              "        vertical-align: middle;\n",
              "    }\n",
              "\n",
              "    .dataframe tbody tr th {\n",
              "        vertical-align: top;\n",
              "    }\n",
              "\n",
              "    .dataframe thead th {\n",
              "        text-align: right;\n",
              "    }\n",
              "</style>\n",
              "<table border=\"1\" class=\"dataframe\">\n",
              "  <thead>\n",
              "    <tr style=\"text-align: right;\">\n",
              "      <th></th>\n",
              "      <th>Test accuracy</th>\n",
              "    </tr>\n",
              "  </thead>\n",
              "  <tbody>\n",
              "    <tr>\n",
              "      <th>model_0</th>\n",
              "      <td>0.7965</td>\n",
              "    </tr>\n",
              "    <tr>\n",
              "      <th>model_1</th>\n",
              "      <td>0.9471</td>\n",
              "    </tr>\n",
              "    <tr>\n",
              "      <th>model_2</th>\n",
              "      <td>0.9719</td>\n",
              "    </tr>\n",
              "    <tr>\n",
              "      <th>model_3</th>\n",
              "      <td>0.9903</td>\n",
              "    </tr>\n",
              "  </tbody>\n",
              "</table>\n",
              "</div>\n",
              "      <button class=\"colab-df-convert\" onclick=\"convertToInteractive('df-cc2e16a1-b9d4-4a44-ade6-496bc37f256f')\"\n",
              "              title=\"Convert this dataframe to an interactive table.\"\n",
              "              style=\"display:none;\">\n",
              "        \n",
              "  <svg xmlns=\"http://www.w3.org/2000/svg\" height=\"24px\"viewBox=\"0 0 24 24\"\n",
              "       width=\"24px\">\n",
              "    <path d=\"M0 0h24v24H0V0z\" fill=\"none\"/>\n",
              "    <path d=\"M18.56 5.44l.94 2.06.94-2.06 2.06-.94-2.06-.94-.94-2.06-.94 2.06-2.06.94zm-11 1L8.5 8.5l.94-2.06 2.06-.94-2.06-.94L8.5 2.5l-.94 2.06-2.06.94zm10 10l.94 2.06.94-2.06 2.06-.94-2.06-.94-.94-2.06-.94 2.06-2.06.94z\"/><path d=\"M17.41 7.96l-1.37-1.37c-.4-.4-.92-.59-1.43-.59-.52 0-1.04.2-1.43.59L10.3 9.45l-7.72 7.72c-.78.78-.78 2.05 0 2.83L4 21.41c.39.39.9.59 1.41.59.51 0 1.02-.2 1.41-.59l7.78-7.78 2.81-2.81c.8-.78.8-2.07 0-2.86zM5.41 20L4 18.59l7.72-7.72 1.47 1.35L5.41 20z\"/>\n",
              "  </svg>\n",
              "      </button>\n",
              "      \n",
              "  <style>\n",
              "    .colab-df-container {\n",
              "      display:flex;\n",
              "      flex-wrap:wrap;\n",
              "      gap: 12px;\n",
              "    }\n",
              "\n",
              "    .colab-df-convert {\n",
              "      background-color: #E8F0FE;\n",
              "      border: none;\n",
              "      border-radius: 50%;\n",
              "      cursor: pointer;\n",
              "      display: none;\n",
              "      fill: #1967D2;\n",
              "      height: 32px;\n",
              "      padding: 0 0 0 0;\n",
              "      width: 32px;\n",
              "    }\n",
              "\n",
              "    .colab-df-convert:hover {\n",
              "      background-color: #E2EBFA;\n",
              "      box-shadow: 0px 1px 2px rgba(60, 64, 67, 0.3), 0px 1px 3px 1px rgba(60, 64, 67, 0.15);\n",
              "      fill: #174EA6;\n",
              "    }\n",
              "\n",
              "    [theme=dark] .colab-df-convert {\n",
              "      background-color: #3B4455;\n",
              "      fill: #D2E3FC;\n",
              "    }\n",
              "\n",
              "    [theme=dark] .colab-df-convert:hover {\n",
              "      background-color: #434B5C;\n",
              "      box-shadow: 0px 1px 3px 1px rgba(0, 0, 0, 0.15);\n",
              "      filter: drop-shadow(0px 1px 2px rgba(0, 0, 0, 0.3));\n",
              "      fill: #FFFFFF;\n",
              "    }\n",
              "  </style>\n",
              "\n",
              "      <script>\n",
              "        const buttonEl =\n",
              "          document.querySelector('#df-cc2e16a1-b9d4-4a44-ade6-496bc37f256f button.colab-df-convert');\n",
              "        buttonEl.style.display =\n",
              "          google.colab.kernel.accessAllowed ? 'block' : 'none';\n",
              "\n",
              "        async function convertToInteractive(key) {\n",
              "          const element = document.querySelector('#df-cc2e16a1-b9d4-4a44-ade6-496bc37f256f');\n",
              "          const dataTable =\n",
              "            await google.colab.kernel.invokeFunction('convertToInteractive',\n",
              "                                                     [key], {});\n",
              "          if (!dataTable) return;\n",
              "\n",
              "          const docLinkHtml = 'Like what you see? Visit the ' +\n",
              "            '<a target=\"_blank\" href=https://colab.research.google.com/notebooks/data_table.ipynb>data table notebook</a>'\n",
              "            + ' to learn more about interactive tables.';\n",
              "          element.innerHTML = '';\n",
              "          dataTable['output_type'] = 'display_data';\n",
              "          await google.colab.output.renderOutput(dataTable, element);\n",
              "          const docLink = document.createElement('div');\n",
              "          docLink.innerHTML = docLinkHtml;\n",
              "          element.appendChild(docLink);\n",
              "        }\n",
              "      </script>\n",
              "    </div>\n",
              "  </div>\n",
              "  "
            ]
          },
          "metadata": {},
          "execution_count": 32
        }
      ]
    },
    {
      "cell_type": "markdown",
      "source": [
        "Woah, we have reached 99% accuracy! ✨"
      ],
      "metadata": {
        "id": "tOikf6IiCBgq"
      }
    },
    {
      "cell_type": "code",
      "source": [
        "show_confusion_matrix(test_labels, test_classes_3)"
      ],
      "metadata": {
        "colab": {
          "base_uri": "https://localhost:8080/",
          "height": 394
        },
        "id": "ZpUN1wakCEba",
        "outputId": "db349f11-64a3-4c66-ebad-8c8755a26c2a"
      },
      "execution_count": 33,
      "outputs": [
        {
          "output_type": "execute_result",
          "data": {
            "text/plain": [
              "<pandas.io.formats.style.Styler at 0x7fd119bc4f50>"
            ],
            "text/html": [
              "<style type=\"text/css\">\n",
              "#T_9ef36_row0_col0, #T_9ef36_row1_col1, #T_9ef36_row2_col2, #T_9ef36_row3_col3, #T_9ef36_row4_col4, #T_9ef36_row5_col5, #T_9ef36_row6_col6, #T_9ef36_row7_col7, #T_9ef36_row8_col8, #T_9ef36_row9_col9 {\n",
              "  background-color: #000000;\n",
              "  color: #f1f1f1;\n",
              "}\n",
              "#T_9ef36_row0_col1, #T_9ef36_row0_col2, #T_9ef36_row0_col3, #T_9ef36_row0_col4, #T_9ef36_row0_col5, #T_9ef36_row0_col6, #T_9ef36_row0_col7, #T_9ef36_row0_col8, #T_9ef36_row0_col9, #T_9ef36_row1_col0, #T_9ef36_row1_col2, #T_9ef36_row1_col3, #T_9ef36_row1_col4, #T_9ef36_row1_col5, #T_9ef36_row1_col6, #T_9ef36_row1_col7, #T_9ef36_row1_col8, #T_9ef36_row1_col9, #T_9ef36_row2_col0, #T_9ef36_row2_col1, #T_9ef36_row2_col3, #T_9ef36_row2_col4, #T_9ef36_row2_col5, #T_9ef36_row2_col6, #T_9ef36_row2_col7, #T_9ef36_row2_col8, #T_9ef36_row2_col9, #T_9ef36_row3_col0, #T_9ef36_row3_col1, #T_9ef36_row3_col2, #T_9ef36_row3_col4, #T_9ef36_row3_col5, #T_9ef36_row3_col6, #T_9ef36_row3_col7, #T_9ef36_row3_col8, #T_9ef36_row3_col9, #T_9ef36_row4_col0, #T_9ef36_row4_col1, #T_9ef36_row4_col2, #T_9ef36_row4_col3, #T_9ef36_row4_col5, #T_9ef36_row4_col6, #T_9ef36_row4_col7, #T_9ef36_row4_col8, #T_9ef36_row4_col9, #T_9ef36_row5_col0, #T_9ef36_row5_col1, #T_9ef36_row5_col2, #T_9ef36_row5_col4, #T_9ef36_row5_col6, #T_9ef36_row5_col7, #T_9ef36_row5_col8, #T_9ef36_row6_col1, #T_9ef36_row6_col2, #T_9ef36_row6_col3, #T_9ef36_row6_col5, #T_9ef36_row6_col7, #T_9ef36_row6_col8, #T_9ef36_row6_col9, #T_9ef36_row7_col0, #T_9ef36_row7_col2, #T_9ef36_row7_col3, #T_9ef36_row7_col5, #T_9ef36_row7_col6, #T_9ef36_row7_col8, #T_9ef36_row7_col9, #T_9ef36_row8_col0, #T_9ef36_row8_col1, #T_9ef36_row8_col2, #T_9ef36_row8_col3, #T_9ef36_row8_col4, #T_9ef36_row8_col5, #T_9ef36_row8_col6, #T_9ef36_row8_col7, #T_9ef36_row8_col9, #T_9ef36_row9_col0, #T_9ef36_row9_col1, #T_9ef36_row9_col2, #T_9ef36_row9_col3, #T_9ef36_row9_col5, #T_9ef36_row9_col6, #T_9ef36_row9_col7, #T_9ef36_row9_col8 {\n",
              "  background-color: #ffffff;\n",
              "  color: #000000;\n",
              "}\n",
              "#T_9ef36_row5_col3, #T_9ef36_row6_col4, #T_9ef36_row7_col1, #T_9ef36_row7_col4, #T_9ef36_row9_col4 {\n",
              "  background-color: #fefefe;\n",
              "  color: #000000;\n",
              "}\n",
              "#T_9ef36_row5_col9 {\n",
              "  background-color: #fcfcfc;\n",
              "  color: #000000;\n",
              "}\n",
              "#T_9ef36_row6_col0 {\n",
              "  background-color: #fdfdfd;\n",
              "  color: #000000;\n",
              "}\n",
              "</style>\n",
              "<table id=\"T_9ef36_\" class=\"dataframe\">\n",
              "  <thead>\n",
              "    <tr>\n",
              "      <th class=\"index_name level0\" >predicted</th>\n",
              "      <th class=\"col_heading level0 col0\" >0</th>\n",
              "      <th class=\"col_heading level0 col1\" >1</th>\n",
              "      <th class=\"col_heading level0 col2\" >2</th>\n",
              "      <th class=\"col_heading level0 col3\" >3</th>\n",
              "      <th class=\"col_heading level0 col4\" >4</th>\n",
              "      <th class=\"col_heading level0 col5\" >5</th>\n",
              "      <th class=\"col_heading level0 col6\" >6</th>\n",
              "      <th class=\"col_heading level0 col7\" >7</th>\n",
              "      <th class=\"col_heading level0 col8\" >8</th>\n",
              "      <th class=\"col_heading level0 col9\" >9</th>\n",
              "    </tr>\n",
              "    <tr>\n",
              "      <th class=\"index_name level0\" >actual</th>\n",
              "      <th class=\"blank col0\" >&nbsp;</th>\n",
              "      <th class=\"blank col1\" >&nbsp;</th>\n",
              "      <th class=\"blank col2\" >&nbsp;</th>\n",
              "      <th class=\"blank col3\" >&nbsp;</th>\n",
              "      <th class=\"blank col4\" >&nbsp;</th>\n",
              "      <th class=\"blank col5\" >&nbsp;</th>\n",
              "      <th class=\"blank col6\" >&nbsp;</th>\n",
              "      <th class=\"blank col7\" >&nbsp;</th>\n",
              "      <th class=\"blank col8\" >&nbsp;</th>\n",
              "      <th class=\"blank col9\" >&nbsp;</th>\n",
              "    </tr>\n",
              "  </thead>\n",
              "  <tbody>\n",
              "    <tr>\n",
              "      <th id=\"T_9ef36_level0_row0\" class=\"row_heading level0 row0\" >0</th>\n",
              "      <td id=\"T_9ef36_row0_col0\" class=\"data row0 col0\" >979</td>\n",
              "      <td id=\"T_9ef36_row0_col1\" class=\"data row0 col1\" >0</td>\n",
              "      <td id=\"T_9ef36_row0_col2\" class=\"data row0 col2\" >0</td>\n",
              "      <td id=\"T_9ef36_row0_col3\" class=\"data row0 col3\" >0</td>\n",
              "      <td id=\"T_9ef36_row0_col4\" class=\"data row0 col4\" >0</td>\n",
              "      <td id=\"T_9ef36_row0_col5\" class=\"data row0 col5\" >0</td>\n",
              "      <td id=\"T_9ef36_row0_col6\" class=\"data row0 col6\" >0</td>\n",
              "      <td id=\"T_9ef36_row0_col7\" class=\"data row0 col7\" >1</td>\n",
              "      <td id=\"T_9ef36_row0_col8\" class=\"data row0 col8\" >0</td>\n",
              "      <td id=\"T_9ef36_row0_col9\" class=\"data row0 col9\" >0</td>\n",
              "    </tr>\n",
              "    <tr>\n",
              "      <th id=\"T_9ef36_level0_row1\" class=\"row_heading level0 row1\" >1</th>\n",
              "      <td id=\"T_9ef36_row1_col0\" class=\"data row1 col0\" >0</td>\n",
              "      <td id=\"T_9ef36_row1_col1\" class=\"data row1 col1\" >1135</td>\n",
              "      <td id=\"T_9ef36_row1_col2\" class=\"data row1 col2\" >0</td>\n",
              "      <td id=\"T_9ef36_row1_col3\" class=\"data row1 col3\" >0</td>\n",
              "      <td id=\"T_9ef36_row1_col4\" class=\"data row1 col4\" >0</td>\n",
              "      <td id=\"T_9ef36_row1_col5\" class=\"data row1 col5\" >0</td>\n",
              "      <td id=\"T_9ef36_row1_col6\" class=\"data row1 col6\" >0</td>\n",
              "      <td id=\"T_9ef36_row1_col7\" class=\"data row1 col7\" >0</td>\n",
              "      <td id=\"T_9ef36_row1_col8\" class=\"data row1 col8\" >0</td>\n",
              "      <td id=\"T_9ef36_row1_col9\" class=\"data row1 col9\" >0</td>\n",
              "    </tr>\n",
              "    <tr>\n",
              "      <th id=\"T_9ef36_level0_row2\" class=\"row_heading level0 row2\" >2</th>\n",
              "      <td id=\"T_9ef36_row2_col0\" class=\"data row2 col0\" >0</td>\n",
              "      <td id=\"T_9ef36_row2_col1\" class=\"data row2 col1\" >2</td>\n",
              "      <td id=\"T_9ef36_row2_col2\" class=\"data row2 col2\" >1028</td>\n",
              "      <td id=\"T_9ef36_row2_col3\" class=\"data row2 col3\" >0</td>\n",
              "      <td id=\"T_9ef36_row2_col4\" class=\"data row2 col4\" >0</td>\n",
              "      <td id=\"T_9ef36_row2_col5\" class=\"data row2 col5\" >0</td>\n",
              "      <td id=\"T_9ef36_row2_col6\" class=\"data row2 col6\" >0</td>\n",
              "      <td id=\"T_9ef36_row2_col7\" class=\"data row2 col7\" >2</td>\n",
              "      <td id=\"T_9ef36_row2_col8\" class=\"data row2 col8\" >0</td>\n",
              "      <td id=\"T_9ef36_row2_col9\" class=\"data row2 col9\" >0</td>\n",
              "    </tr>\n",
              "    <tr>\n",
              "      <th id=\"T_9ef36_level0_row3\" class=\"row_heading level0 row3\" >3</th>\n",
              "      <td id=\"T_9ef36_row3_col0\" class=\"data row3 col0\" >0</td>\n",
              "      <td id=\"T_9ef36_row3_col1\" class=\"data row3 col1\" >0</td>\n",
              "      <td id=\"T_9ef36_row3_col2\" class=\"data row3 col2\" >0</td>\n",
              "      <td id=\"T_9ef36_row3_col3\" class=\"data row3 col3\" >1003</td>\n",
              "      <td id=\"T_9ef36_row3_col4\" class=\"data row3 col4\" >0</td>\n",
              "      <td id=\"T_9ef36_row3_col5\" class=\"data row3 col5\" >3</td>\n",
              "      <td id=\"T_9ef36_row3_col6\" class=\"data row3 col6\" >0</td>\n",
              "      <td id=\"T_9ef36_row3_col7\" class=\"data row3 col7\" >1</td>\n",
              "      <td id=\"T_9ef36_row3_col8\" class=\"data row3 col8\" >1</td>\n",
              "      <td id=\"T_9ef36_row3_col9\" class=\"data row3 col9\" >2</td>\n",
              "    </tr>\n",
              "    <tr>\n",
              "      <th id=\"T_9ef36_level0_row4\" class=\"row_heading level0 row4\" >4</th>\n",
              "      <td id=\"T_9ef36_row4_col0\" class=\"data row4 col0\" >0</td>\n",
              "      <td id=\"T_9ef36_row4_col1\" class=\"data row4 col1\" >0</td>\n",
              "      <td id=\"T_9ef36_row4_col2\" class=\"data row4 col2\" >0</td>\n",
              "      <td id=\"T_9ef36_row4_col3\" class=\"data row4 col3\" >0</td>\n",
              "      <td id=\"T_9ef36_row4_col4\" class=\"data row4 col4\" >979</td>\n",
              "      <td id=\"T_9ef36_row4_col5\" class=\"data row4 col5\" >0</td>\n",
              "      <td id=\"T_9ef36_row4_col6\" class=\"data row4 col6\" >0</td>\n",
              "      <td id=\"T_9ef36_row4_col7\" class=\"data row4 col7\" >0</td>\n",
              "      <td id=\"T_9ef36_row4_col8\" class=\"data row4 col8\" >0</td>\n",
              "      <td id=\"T_9ef36_row4_col9\" class=\"data row4 col9\" >3</td>\n",
              "    </tr>\n",
              "    <tr>\n",
              "      <th id=\"T_9ef36_level0_row5\" class=\"row_heading level0 row5\" >5</th>\n",
              "      <td id=\"T_9ef36_row5_col0\" class=\"data row5 col0\" >3</td>\n",
              "      <td id=\"T_9ef36_row5_col1\" class=\"data row5 col1\" >0</td>\n",
              "      <td id=\"T_9ef36_row5_col2\" class=\"data row5 col2\" >0</td>\n",
              "      <td id=\"T_9ef36_row5_col3\" class=\"data row5 col3\" >5</td>\n",
              "      <td id=\"T_9ef36_row5_col4\" class=\"data row5 col4\" >0</td>\n",
              "      <td id=\"T_9ef36_row5_col5\" class=\"data row5 col5\" >866</td>\n",
              "      <td id=\"T_9ef36_row5_col6\" class=\"data row5 col6\" >1</td>\n",
              "      <td id=\"T_9ef36_row5_col7\" class=\"data row5 col7\" >1</td>\n",
              "      <td id=\"T_9ef36_row5_col8\" class=\"data row5 col8\" >3</td>\n",
              "      <td id=\"T_9ef36_row5_col9\" class=\"data row5 col9\" >13</td>\n",
              "    </tr>\n",
              "    <tr>\n",
              "      <th id=\"T_9ef36_level0_row6\" class=\"row_heading level0 row6\" >6</th>\n",
              "      <td id=\"T_9ef36_row6_col0\" class=\"data row6 col0\" >8</td>\n",
              "      <td id=\"T_9ef36_row6_col1\" class=\"data row6 col1\" >4</td>\n",
              "      <td id=\"T_9ef36_row6_col2\" class=\"data row6 col2\" >0</td>\n",
              "      <td id=\"T_9ef36_row6_col3\" class=\"data row6 col3\" >0</td>\n",
              "      <td id=\"T_9ef36_row6_col4\" class=\"data row6 col4\" >5</td>\n",
              "      <td id=\"T_9ef36_row6_col5\" class=\"data row6 col5\" >2</td>\n",
              "      <td id=\"T_9ef36_row6_col6\" class=\"data row6 col6\" >936</td>\n",
              "      <td id=\"T_9ef36_row6_col7\" class=\"data row6 col7\" >0</td>\n",
              "      <td id=\"T_9ef36_row6_col8\" class=\"data row6 col8\" >3</td>\n",
              "      <td id=\"T_9ef36_row6_col9\" class=\"data row6 col9\" >0</td>\n",
              "    </tr>\n",
              "    <tr>\n",
              "      <th id=\"T_9ef36_level0_row7\" class=\"row_heading level0 row7\" >7</th>\n",
              "      <td id=\"T_9ef36_row7_col0\" class=\"data row7 col0\" >0</td>\n",
              "      <td id=\"T_9ef36_row7_col1\" class=\"data row7 col1\" >6</td>\n",
              "      <td id=\"T_9ef36_row7_col2\" class=\"data row7 col2\" >2</td>\n",
              "      <td id=\"T_9ef36_row7_col3\" class=\"data row7 col3\" >0</td>\n",
              "      <td id=\"T_9ef36_row7_col4\" class=\"data row7 col4\" >5</td>\n",
              "      <td id=\"T_9ef36_row7_col5\" class=\"data row7 col5\" >0</td>\n",
              "      <td id=\"T_9ef36_row7_col6\" class=\"data row7 col6\" >0</td>\n",
              "      <td id=\"T_9ef36_row7_col7\" class=\"data row7 col7\" >1012</td>\n",
              "      <td id=\"T_9ef36_row7_col8\" class=\"data row7 col8\" >0</td>\n",
              "      <td id=\"T_9ef36_row7_col9\" class=\"data row7 col9\" >3</td>\n",
              "    </tr>\n",
              "    <tr>\n",
              "      <th id=\"T_9ef36_level0_row8\" class=\"row_heading level0 row8\" >8</th>\n",
              "      <td id=\"T_9ef36_row8_col0\" class=\"data row8 col0\" >2</td>\n",
              "      <td id=\"T_9ef36_row8_col1\" class=\"data row8 col1\" >0</td>\n",
              "      <td id=\"T_9ef36_row8_col2\" class=\"data row8 col2\" >3</td>\n",
              "      <td id=\"T_9ef36_row8_col3\" class=\"data row8 col3\" >1</td>\n",
              "      <td id=\"T_9ef36_row8_col4\" class=\"data row8 col4\" >2</td>\n",
              "      <td id=\"T_9ef36_row8_col5\" class=\"data row8 col5\" >0</td>\n",
              "      <td id=\"T_9ef36_row8_col6\" class=\"data row8 col6\" >0</td>\n",
              "      <td id=\"T_9ef36_row8_col7\" class=\"data row8 col7\" >0</td>\n",
              "      <td id=\"T_9ef36_row8_col8\" class=\"data row8 col8\" >963</td>\n",
              "      <td id=\"T_9ef36_row8_col9\" class=\"data row8 col9\" >3</td>\n",
              "    </tr>\n",
              "    <tr>\n",
              "      <th id=\"T_9ef36_level0_row9\" class=\"row_heading level0 row9\" >9</th>\n",
              "      <td id=\"T_9ef36_row9_col0\" class=\"data row9 col0\" >0</td>\n",
              "      <td id=\"T_9ef36_row9_col1\" class=\"data row9 col1\" >0</td>\n",
              "      <td id=\"T_9ef36_row9_col2\" class=\"data row9 col2\" >1</td>\n",
              "      <td id=\"T_9ef36_row9_col3\" class=\"data row9 col3\" >0</td>\n",
              "      <td id=\"T_9ef36_row9_col4\" class=\"data row9 col4\" >5</td>\n",
              "      <td id=\"T_9ef36_row9_col5\" class=\"data row9 col5\" >0</td>\n",
              "      <td id=\"T_9ef36_row9_col6\" class=\"data row9 col6\" >0</td>\n",
              "      <td id=\"T_9ef36_row9_col7\" class=\"data row9 col7\" >1</td>\n",
              "      <td id=\"T_9ef36_row9_col8\" class=\"data row9 col8\" >0</td>\n",
              "      <td id=\"T_9ef36_row9_col9\" class=\"data row9 col9\" >1002</td>\n",
              "    </tr>\n",
              "  </tbody>\n",
              "</table>\n"
            ]
          },
          "metadata": {},
          "execution_count": 33
        }
      ]
    },
    {
      "cell_type": "markdown",
      "source": [
        "This is the best looking confusion matrix so far. We see many zeros off the diagonal and 1000+ along the diagonal for some digits."
      ],
      "metadata": {
        "id": "DyV4pQ-DCJ8j"
      }
    },
    {
      "cell_type": "code",
      "source": [
        "inspect_sample_predictions(test_data_norm, test_labels, \n",
        "                           test_preds_3)"
      ],
      "metadata": {
        "colab": {
          "base_uri": "https://localhost:8080/",
          "height": 364
        },
        "id": "pOSSCUEkCKnh",
        "outputId": "4e04f810-693a-4325-975e-9e9a3986d4fe"
      },
      "execution_count": 34,
      "outputs": [
        {
          "output_type": "display_data",
          "data": {
            "text/plain": [
              "<Figure size 576x360 with 6 Axes>"
            ],
            "image/png": "[encoded data removed]"
          },
          "metadata": {}
        }
      ]
    },
    {
      "cell_type": "markdown",
      "source": [
        "Like before, sample images are predicted correctly."
      ],
      "metadata": {
        "id": "e5eIOMqcCQoT"
      }
    },
    {
      "cell_type": "code",
      "source": [
        "see_most_incorrect(test_data_norm, test_labels, test_preds_3)"
      ],
      "metadata": {
        "colab": {
          "base_uri": "https://localhost:8080/",
          "height": 364
        },
        "id": "SDDz3DyUCRa0",
        "outputId": "caeeb0cd-7f97-4916-f577-6a1658547f5c"
      },
      "execution_count": 35,
      "outputs": [
        {
          "output_type": "display_data",
          "data": {
            "text/plain": [
              "<Figure size 576x360 with 6 Axes>"
            ],
            "image/png": "[encoded data removed]"
          },
          "metadata": {}
        }
      ]
    },
    {
      "cell_type": "markdown",
      "source": [
        "Some of these images are a bit tricky, especially 6s and 7. One of these 6s seem to have also been identified as one of the most incorrect predictions by `model_2`.\n",
        "\n",
        "We will end our model experimentation here in the interest of time. In practice, it’s almost certain that we will have to a whole lot more iterations before we settle to a model. In this post, we saw that each iteration improved our model predictive power. However, this is not always true in practice as some experiment ideas don’t work out. This is normal and just a nature of experimental approach.\n",
        "\n",
        "While we explored only a couple of ideas as part of the four models, there are myriad of ways we could branch out the experimentation to improve the model. Here’re some ways one can try in an attempt to improve the model:<br>\n",
        "◼️ Increase layers<br>\n",
        "◼️ Change activation functions<br>\n",
        "◼️ Train for longer (i.e. more epochs)\n",
        "\n",
        "If you are working on well-known datasets, one way to get inspirations for your neural network design is to look at leading model architectures. For instance, we can see that leading models on MNIST dataset from [Papers with code](https://paperswithcode.com/sota/image-classification-on-mnist). At the time of writing this post, [Homogeneous ensemble with Simple CNN](https://paperswithcode.com/paper/an-ensemble-of-simple-convolutional-neural) is leading it with 99.91 accuracy. If you are curious, you can learn more about the model and its architecture from [the paper](https://arxiv.org/pdf/2008.10400v2.pdf). In addition, there is usually an [accompanying code](https://github.com/ansh941/MnistSimpleCNN) to dig further. Since most of leading models tend to have very strong performance, your options are not just limited to the top one model.\n",
        "***"
      ],
      "metadata": {
        "id": "6FO9kKu0CZZx"
      }
    }
  ]
}